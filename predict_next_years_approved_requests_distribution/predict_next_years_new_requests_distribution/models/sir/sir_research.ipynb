{
 "cells": [
  {
   "cell_type": "code",
   "execution_count": 1,
   "id": "6f7af224",
   "metadata": {
    "pycharm": {
     "name": "#%%\n"
    }
   },
   "outputs": [
    {
     "data": {
      "text/html": [
       "<div>\n",
       "<style scoped>\n",
       "    .dataframe tbody tr th:only-of-type {\n",
       "        vertical-align: middle;\n",
       "    }\n",
       "\n",
       "    .dataframe tbody tr th {\n",
       "        vertical-align: top;\n",
       "    }\n",
       "\n",
       "    .dataframe thead th {\n",
       "        text-align: right;\n",
       "    }\n",
       "</style>\n",
       "<table border=\"1\" class=\"dataframe\">\n",
       "  <thead>\n",
       "    <tr style=\"text-align: right;\">\n",
       "      <th></th>\n",
       "      <th>hebrew_city_name</th>\n",
       "      <th>city_code</th>\n",
       "      <th>year</th>\n",
       "      <th>total_open_requests</th>\n",
       "      <th>total_requests</th>\n",
       "      <th>total_approved_requests</th>\n",
       "      <th>longitude</th>\n",
       "      <th>latitude</th>\n",
       "    </tr>\n",
       "  </thead>\n",
       "  <tbody>\n",
       "    <tr>\n",
       "      <th>0</th>\n",
       "      <td>אור יהודה</td>\n",
       "      <td>2400</td>\n",
       "      <td>2005</td>\n",
       "      <td>0</td>\n",
       "      <td>0.0</td>\n",
       "      <td>0.0</td>\n",
       "      <td>34.852394</td>\n",
       "      <td>32.030971</td>\n",
       "    </tr>\n",
       "    <tr>\n",
       "      <th>1</th>\n",
       "      <td>אור יהודה</td>\n",
       "      <td>2400</td>\n",
       "      <td>2006</td>\n",
       "      <td>0</td>\n",
       "      <td>0.0</td>\n",
       "      <td>0.0</td>\n",
       "      <td>34.852394</td>\n",
       "      <td>32.030971</td>\n",
       "    </tr>\n",
       "    <tr>\n",
       "      <th>2</th>\n",
       "      <td>אור יהודה</td>\n",
       "      <td>2400</td>\n",
       "      <td>2007</td>\n",
       "      <td>0</td>\n",
       "      <td>0.0</td>\n",
       "      <td>0.0</td>\n",
       "      <td>34.852394</td>\n",
       "      <td>32.030971</td>\n",
       "    </tr>\n",
       "    <tr>\n",
       "      <th>3</th>\n",
       "      <td>אור יהודה</td>\n",
       "      <td>2400</td>\n",
       "      <td>2008</td>\n",
       "      <td>0</td>\n",
       "      <td>1.0</td>\n",
       "      <td>0.0</td>\n",
       "      <td>34.852394</td>\n",
       "      <td>32.030971</td>\n",
       "    </tr>\n",
       "    <tr>\n",
       "      <th>4</th>\n",
       "      <td>אור יהודה</td>\n",
       "      <td>2400</td>\n",
       "      <td>2009</td>\n",
       "      <td>1</td>\n",
       "      <td>0.0</td>\n",
       "      <td>0.0</td>\n",
       "      <td>34.852394</td>\n",
       "      <td>32.030971</td>\n",
       "    </tr>\n",
       "    <tr>\n",
       "      <th>...</th>\n",
       "      <td>...</td>\n",
       "      <td>...</td>\n",
       "      <td>...</td>\n",
       "      <td>...</td>\n",
       "      <td>...</td>\n",
       "      <td>...</td>\n",
       "      <td>...</td>\n",
       "      <td>...</td>\n",
       "    </tr>\n",
       "    <tr>\n",
       "      <th>1075</th>\n",
       "      <td>תל אביב יפו</td>\n",
       "      <td>5000</td>\n",
       "      <td>2018</td>\n",
       "      <td>687</td>\n",
       "      <td>164.0</td>\n",
       "      <td>83.0</td>\n",
       "      <td>34.781806</td>\n",
       "      <td>32.085300</td>\n",
       "    </tr>\n",
       "    <tr>\n",
       "      <th>1076</th>\n",
       "      <td>תל אביב יפו</td>\n",
       "      <td>5000</td>\n",
       "      <td>2019</td>\n",
       "      <td>768</td>\n",
       "      <td>116.0</td>\n",
       "      <td>149.0</td>\n",
       "      <td>34.781806</td>\n",
       "      <td>32.085300</td>\n",
       "    </tr>\n",
       "    <tr>\n",
       "      <th>1077</th>\n",
       "      <td>תל אביב יפו</td>\n",
       "      <td>5000</td>\n",
       "      <td>2020</td>\n",
       "      <td>735</td>\n",
       "      <td>238.0</td>\n",
       "      <td>115.0</td>\n",
       "      <td>34.781806</td>\n",
       "      <td>32.085300</td>\n",
       "    </tr>\n",
       "    <tr>\n",
       "      <th>1078</th>\n",
       "      <td>תל אביב יפו</td>\n",
       "      <td>5000</td>\n",
       "      <td>2021</td>\n",
       "      <td>858</td>\n",
       "      <td>240.0</td>\n",
       "      <td>124.0</td>\n",
       "      <td>34.781806</td>\n",
       "      <td>32.085300</td>\n",
       "    </tr>\n",
       "    <tr>\n",
       "      <th>1079</th>\n",
       "      <td>תל אביב יפו</td>\n",
       "      <td>5000</td>\n",
       "      <td>2022</td>\n",
       "      <td>974</td>\n",
       "      <td>209.0</td>\n",
       "      <td>133.0</td>\n",
       "      <td>34.781806</td>\n",
       "      <td>32.085300</td>\n",
       "    </tr>\n",
       "  </tbody>\n",
       "</table>\n",
       "<p>1080 rows × 8 columns</p>\n",
       "</div>"
      ],
      "text/plain": [
       "     hebrew_city_name  city_code  year  total_open_requests  total_requests  \\\n",
       "0           אור יהודה       2400  2005                    0             0.0   \n",
       "1           אור יהודה       2400  2006                    0             0.0   \n",
       "2           אור יהודה       2400  2007                    0             0.0   \n",
       "3           אור יהודה       2400  2008                    0             1.0   \n",
       "4           אור יהודה       2400  2009                    1             0.0   \n",
       "...               ...        ...   ...                  ...             ...   \n",
       "1075      תל אביב יפו       5000  2018                  687           164.0   \n",
       "1076      תל אביב יפו       5000  2019                  768           116.0   \n",
       "1077      תל אביב יפו       5000  2020                  735           238.0   \n",
       "1078      תל אביב יפו       5000  2021                  858           240.0   \n",
       "1079      תל אביב יפו       5000  2022                  974           209.0   \n",
       "\n",
       "      total_approved_requests  longitude   latitude  \n",
       "0                         0.0  34.852394  32.030971  \n",
       "1                         0.0  34.852394  32.030971  \n",
       "2                         0.0  34.852394  32.030971  \n",
       "3                         0.0  34.852394  32.030971  \n",
       "4                         0.0  34.852394  32.030971  \n",
       "...                       ...        ...        ...  \n",
       "1075                     83.0  34.781806  32.085300  \n",
       "1076                    149.0  34.781806  32.085300  \n",
       "1077                    115.0  34.781806  32.085300  \n",
       "1078                    124.0  34.781806  32.085300  \n",
       "1079                    133.0  34.781806  32.085300  \n",
       "\n",
       "[1080 rows x 8 columns]"
      ]
     },
     "execution_count": 1,
     "metadata": {},
     "output_type": "execute_result"
    }
   ],
   "source": [
    "import pandas as pd\n",
    "import numpy as np\n",
    "from scipy.integrate import odeint\n",
    "from scipy.optimize import minimize\n",
    "from sklearn.metrics import mean_squared_error\n",
    "import numpy as np\n",
    "\n",
    "# Read the dataframe\n",
    "tama_df = pd.read_csv('engineered_tama_data.csv')\n",
    "tama_df"
   ]
  },
  {
   "cell_type": "code",
   "execution_count": 2,
   "id": "cda51810",
   "metadata": {},
   "outputs": [],
   "source": [
    "point_in_time = 2020"
   ]
  },
  {
   "cell_type": "code",
   "execution_count": 3,
   "id": "6a6f16e3",
   "metadata": {
    "pycharm": {
     "name": "#%%\n"
    }
   },
   "outputs": [],
   "source": [
    "train_df = tama_df[tama_df['year'] <= point_in_time]\n",
    "test_df = tama_df[tama_df['year'] > point_in_time]"
   ]
  },
  {
   "cell_type": "code",
   "execution_count": 4,
   "id": "80120307",
   "metadata": {
    "pycharm": {
     "name": "#%%\n"
    }
   },
   "outputs": [],
   "source": [
    "# Save the model\n",
    "import json\n",
    "def save_sir_params(city, beta, gamma):\n",
    "    model = {\n",
    "        'city': int(city),\n",
    "        'beta': float(beta),\n",
    "        'gamma': float(gamma),\n",
    "    }\n",
    "    sir_models = [model]\n",
    "    with open(\"sir_model.json\", \"r\") as sir_model_file:\n",
    "        sir_models = json.load(sir_model_file)\n",
    "        sir_models.append(model)\n",
    "    with open(\"sir_model.json\", 'w') as sir_model_file:\n",
    "        json.dump(sir_models, sir_model_file,\n",
    "                  indent=4,\n",
    "                  separators=(',', ': '))"
   ]
  },
  {
   "cell_type": "code",
   "execution_count": 5,
   "id": "85f849f8",
   "metadata": {
    "pycharm": {
     "name": "#%%\n"
    }
   },
   "outputs": [],
   "source": [
    "def SIR(X, t, beta, gamma, N):\n",
    "    \"\"\"\n",
    "    SIR model for tama requests prediction.\n",
    "    S = X[0], I=X[1], R=X[2]\n",
    "    \"\"\"\n",
    "    dSdt = -beta * X[0] * X[1] / N\n",
    "    dIdt = beta * X[0] * X[1] / N - gamma * X[1]\n",
    "    dRdt = gamma * X[1]\n",
    "    return [dSdt, dIdt, dRdt]\n",
    "    \n",
    "def infectedSIR(time_seq, beta, gamma):\n",
    "    N = 10000\n",
    "    I0 = 1\n",
    "    X0 = [N-I0, I0, 0]\n",
    "    return odeint(SIR, X0, time_seq, args=(beta, gamma, N))[:,1]\n",
    "    \n",
    "def min_diff(params, total_requests_data, time_data):\n",
    "            beta, gamma = params\n",
    "            guess = infectedSIR(time_data, beta, gamma)\n",
    "            return np.sum(np.square(guess - total_requests_data))\n",
    "            \n",
    "            \n",
    "def build_sir_models(train_df):\n",
    "    cities = list(set(train_df['city_code']))\n",
    "    for city in cities:\n",
    "        current_city = train_df[train_df['city_code'] == city].sort_values(by='year', ignore_index=True)\n",
    "        if current_city['total_requests'].sum() >= 15:\n",
    "            current_city['year'] = current_city['year'] - 2005\n",
    "            bounds=((0.001, None), (0.001, 10))\n",
    "            result = minimize(min_diff, [0.5, 0.1], \n",
    "            args=(current_city['total_requests'].values, current_city['year'].values), \n",
    "            method='Nelder-Mead', bounds=bounds, tol=1e-6)\n",
    "            beta_opt, gamma_opt = result.x\n",
    "            save_sir_params(city, beta_opt, gamma_opt)"
   ]
  },
  {
   "cell_type": "code",
   "execution_count": 6,
   "id": "75ef62dc",
   "metadata": {
    "pycharm": {
     "name": "#%%\n"
    }
   },
   "outputs": [],
   "source": [
    "build_sir_models(train_df)"
   ]
  },
  {
   "cell_type": "code",
   "execution_count": null,
   "id": "1388fd30",
   "metadata": {},
   "outputs": [],
   "source": []
  },
  {
   "cell_type": "code",
   "execution_count": 7,
   "id": "93ed1e75",
   "metadata": {
    "pycharm": {
     "name": "#%%\n"
    }
   },
   "outputs": [],
   "source": [
    "import json\n",
    "from zoom_out import zoom_out, get_city_code, tama_df as tama_for_zoom_out\n",
    "def predict_total_requests(city, year, handle_missing_city='min'):\n",
    "    with open(\"sir_model.json\") as sir_nodel_file:\n",
    "        sir_models = json.load(sir_nodel_file)\n",
    "        city_model = [model for model in sir_models if model['city'] == city]\n",
    "        normalized_year = year - 2005\n",
    "        if not city_model and handle_missing_city == 'zoom_out':\n",
    "            city_model = [model for model in sir_models if model['city'] == get_city_code(zoom_out(city, tama_for_zoom_out), tama_for_zoom_out)]\n",
    "            print(get_city_code(zoom_out(city)))\n",
    "        if city_model:\n",
    "            city_model = city_model[0]\n",
    "            guess = infectedSIR(np.linspace(0, normalized_year, normalized_year + 1), city_model['beta'], city_model['gamma'])\n",
    "            return guess[normalized_year]\n",
    "        if hasattr(np, handle_missing_city):\n",
    "            operation = getattr(np, handle_missing_city)\n",
    "        else:\n",
    "            raise Exception('Invalid operation')\n",
    "        existing_cities = [model['city'] for model in sir_models]\n",
    "        guesses_existing_cities = []\n",
    "        for city in existing_cities:\n",
    "            city_model = [model for model in sir_models if model['city'] == city][0]\n",
    "            guesses_existing_cities += [infectedSIR(np.linspace(0, normalized_year, normalized_year + 1), city_model['beta'], city_model['gamma'])[normalized_year]]\n",
    "        return operation(np.array(guesses_existing_cities))            "
   ]
  },
  {
   "cell_type": "code",
   "execution_count": 8,
   "id": "19c26b19",
   "metadata": {
    "pycharm": {
     "name": "#%%\n"
    }
   },
   "outputs": [
    {
     "data": {
      "text/plain": [
       "27.649363838313782"
      ]
     },
     "execution_count": 8,
     "metadata": {},
     "output_type": "execute_result"
    }
   ],
   "source": [
    "predict_total_requests(city=8700, year=2012)"
   ]
  },
  {
   "cell_type": "code",
   "execution_count": 9,
   "id": "aa9fb78e",
   "metadata": {
    "pycharm": {
     "name": "#%%\n"
    }
   },
   "outputs": [
    {
     "data": {
      "text/plain": [
       "1.3121101100028465"
      ]
     },
     "execution_count": 9,
     "metadata": {},
     "output_type": "execute_result"
    }
   ],
   "source": [
    "predict_total_requests(city=2400, year=2012)"
   ]
  },
  {
   "cell_type": "code",
   "execution_count": 10,
   "id": "b710681a",
   "metadata": {},
   "outputs": [
    {
     "name": "stdout",
     "output_type": "stream",
     "text": [
      "zoom out\n"
     ]
    },
    {
     "name": "stderr",
     "output_type": "stream",
     "text": [
      "/Users/sararozin/Documents/Tama Project/Tama/predict_next_years_approved_requests_distribution/predict_next_years_new_requests_distribution/models/sir/zoom_out.py:49: SettingWithCopyWarning: \n",
      "A value is trying to be set on a copy of a slice from a DataFrame.\n",
      "Try using .loc[row_indexer,col_indexer] = value instead\n",
      "\n",
      "See the caveats in the documentation: https://pandas.pydata.org/pandas-docs/stable/user_guide/indexing.html#returning-a-view-versus-a-copy\n",
      "  tama_df['distance'] = tama_df.apply(lambda row: calculate_distance(latitude, longitude, row['latitude'], row['longitude']), axis=1)\n"
     ]
    },
    {
     "name": "stdout",
     "output_type": "stream",
     "text": [
      "nearest city קרית שמונה\n",
      "zoom out\n"
     ]
    },
    {
     "name": "stderr",
     "output_type": "stream",
     "text": [
      "/Users/sararozin/Documents/Tama Project/Tama/predict_next_years_approved_requests_distribution/predict_next_years_new_requests_distribution/models/sir/zoom_out.py:49: SettingWithCopyWarning: \n",
      "A value is trying to be set on a copy of a slice from a DataFrame.\n",
      "Try using .loc[row_indexer,col_indexer] = value instead\n",
      "\n",
      "See the caveats in the documentation: https://pandas.pydata.org/pandas-docs/stable/user_guide/indexing.html#returning-a-view-versus-a-copy\n",
      "  tama_df['distance'] = tama_df.apply(lambda row: calculate_distance(latitude, longitude, row['latitude'], row['longitude']), axis=1)\n"
     ]
    },
    {
     "name": "stdout",
     "output_type": "stream",
     "text": [
      "nearest city קרית שמונה\n",
      "zoom out\n"
     ]
    },
    {
     "name": "stderr",
     "output_type": "stream",
     "text": [
      "/Users/sararozin/Documents/Tama Project/Tama/predict_next_years_approved_requests_distribution/predict_next_years_new_requests_distribution/models/sir/zoom_out.py:49: SettingWithCopyWarning: \n",
      "A value is trying to be set on a copy of a slice from a DataFrame.\n",
      "Try using .loc[row_indexer,col_indexer] = value instead\n",
      "\n",
      "See the caveats in the documentation: https://pandas.pydata.org/pandas-docs/stable/user_guide/indexing.html#returning-a-view-versus-a-copy\n",
      "  tama_df['distance'] = tama_df.apply(lambda row: calculate_distance(latitude, longitude, row['latitude'], row['longitude']), axis=1)\n"
     ]
    },
    {
     "name": "stdout",
     "output_type": "stream",
     "text": [
      "nearest city קרית שמונה\n",
      "zoom out\n"
     ]
    },
    {
     "name": "stderr",
     "output_type": "stream",
     "text": [
      "/Users/sararozin/Documents/Tama Project/Tama/predict_next_years_approved_requests_distribution/predict_next_years_new_requests_distribution/models/sir/zoom_out.py:49: SettingWithCopyWarning: \n",
      "A value is trying to be set on a copy of a slice from a DataFrame.\n",
      "Try using .loc[row_indexer,col_indexer] = value instead\n",
      "\n",
      "See the caveats in the documentation: https://pandas.pydata.org/pandas-docs/stable/user_guide/indexing.html#returning-a-view-versus-a-copy\n",
      "  tama_df['distance'] = tama_df.apply(lambda row: calculate_distance(latitude, longitude, row['latitude'], row['longitude']), axis=1)\n"
     ]
    },
    {
     "name": "stdout",
     "output_type": "stream",
     "text": [
      "nearest city קרית שמונה\n",
      "zoom out\n"
     ]
    },
    {
     "name": "stderr",
     "output_type": "stream",
     "text": [
      "/Users/sararozin/Documents/Tama Project/Tama/predict_next_years_approved_requests_distribution/predict_next_years_new_requests_distribution/models/sir/zoom_out.py:49: SettingWithCopyWarning: \n",
      "A value is trying to be set on a copy of a slice from a DataFrame.\n",
      "Try using .loc[row_indexer,col_indexer] = value instead\n",
      "\n",
      "See the caveats in the documentation: https://pandas.pydata.org/pandas-docs/stable/user_guide/indexing.html#returning-a-view-versus-a-copy\n",
      "  tama_df['distance'] = tama_df.apply(lambda row: calculate_distance(latitude, longitude, row['latitude'], row['longitude']), axis=1)\n"
     ]
    },
    {
     "name": "stdout",
     "output_type": "stream",
     "text": [
      "nearest city קרית שמונה\n",
      "zoom out\n"
     ]
    },
    {
     "name": "stderr",
     "output_type": "stream",
     "text": [
      "/Users/sararozin/Documents/Tama Project/Tama/predict_next_years_approved_requests_distribution/predict_next_years_new_requests_distribution/models/sir/zoom_out.py:49: SettingWithCopyWarning: \n",
      "A value is trying to be set on a copy of a slice from a DataFrame.\n",
      "Try using .loc[row_indexer,col_indexer] = value instead\n",
      "\n",
      "See the caveats in the documentation: https://pandas.pydata.org/pandas-docs/stable/user_guide/indexing.html#returning-a-view-versus-a-copy\n",
      "  tama_df['distance'] = tama_df.apply(lambda row: calculate_distance(latitude, longitude, row['latitude'], row['longitude']), axis=1)\n"
     ]
    },
    {
     "name": "stdout",
     "output_type": "stream",
     "text": [
      "nearest city קרית שמונה\n",
      "zoom out\n"
     ]
    },
    {
     "name": "stderr",
     "output_type": "stream",
     "text": [
      "/Users/sararozin/Documents/Tama Project/Tama/predict_next_years_approved_requests_distribution/predict_next_years_new_requests_distribution/models/sir/zoom_out.py:49: SettingWithCopyWarning: \n",
      "A value is trying to be set on a copy of a slice from a DataFrame.\n",
      "Try using .loc[row_indexer,col_indexer] = value instead\n",
      "\n",
      "See the caveats in the documentation: https://pandas.pydata.org/pandas-docs/stable/user_guide/indexing.html#returning-a-view-versus-a-copy\n",
      "  tama_df['distance'] = tama_df.apply(lambda row: calculate_distance(latitude, longitude, row['latitude'], row['longitude']), axis=1)\n"
     ]
    },
    {
     "name": "stdout",
     "output_type": "stream",
     "text": [
      "nearest city קרית שמונה\n",
      "zoom out\n"
     ]
    },
    {
     "name": "stderr",
     "output_type": "stream",
     "text": [
      "/Users/sararozin/Documents/Tama Project/Tama/predict_next_years_approved_requests_distribution/predict_next_years_new_requests_distribution/models/sir/zoom_out.py:49: SettingWithCopyWarning: \n",
      "A value is trying to be set on a copy of a slice from a DataFrame.\n",
      "Try using .loc[row_indexer,col_indexer] = value instead\n",
      "\n",
      "See the caveats in the documentation: https://pandas.pydata.org/pandas-docs/stable/user_guide/indexing.html#returning-a-view-versus-a-copy\n",
      "  tama_df['distance'] = tama_df.apply(lambda row: calculate_distance(latitude, longitude, row['latitude'], row['longitude']), axis=1)\n"
     ]
    },
    {
     "name": "stdout",
     "output_type": "stream",
     "text": [
      "nearest city קרית שמונה\n",
      "zoom out\n"
     ]
    },
    {
     "name": "stderr",
     "output_type": "stream",
     "text": [
      "/Users/sararozin/Documents/Tama Project/Tama/predict_next_years_approved_requests_distribution/predict_next_years_new_requests_distribution/models/sir/zoom_out.py:49: SettingWithCopyWarning: \n",
      "A value is trying to be set on a copy of a slice from a DataFrame.\n",
      "Try using .loc[row_indexer,col_indexer] = value instead\n",
      "\n",
      "See the caveats in the documentation: https://pandas.pydata.org/pandas-docs/stable/user_guide/indexing.html#returning-a-view-versus-a-copy\n",
      "  tama_df['distance'] = tama_df.apply(lambda row: calculate_distance(latitude, longitude, row['latitude'], row['longitude']), axis=1)\n"
     ]
    },
    {
     "name": "stdout",
     "output_type": "stream",
     "text": [
      "nearest city קרית שמונה\n",
      "zoom out\n"
     ]
    },
    {
     "name": "stderr",
     "output_type": "stream",
     "text": [
      "/Users/sararozin/Documents/Tama Project/Tama/predict_next_years_approved_requests_distribution/predict_next_years_new_requests_distribution/models/sir/zoom_out.py:49: SettingWithCopyWarning: \n",
      "A value is trying to be set on a copy of a slice from a DataFrame.\n",
      "Try using .loc[row_indexer,col_indexer] = value instead\n",
      "\n",
      "See the caveats in the documentation: https://pandas.pydata.org/pandas-docs/stable/user_guide/indexing.html#returning-a-view-versus-a-copy\n",
      "  tama_df['distance'] = tama_df.apply(lambda row: calculate_distance(latitude, longitude, row['latitude'], row['longitude']), axis=1)\n"
     ]
    },
    {
     "name": "stdout",
     "output_type": "stream",
     "text": [
      "nearest city קרית שמונה\n",
      "zoom out\n"
     ]
    },
    {
     "name": "stderr",
     "output_type": "stream",
     "text": [
      "/Users/sararozin/Documents/Tama Project/Tama/predict_next_years_approved_requests_distribution/predict_next_years_new_requests_distribution/models/sir/zoom_out.py:49: SettingWithCopyWarning: \n",
      "A value is trying to be set on a copy of a slice from a DataFrame.\n",
      "Try using .loc[row_indexer,col_indexer] = value instead\n",
      "\n",
      "See the caveats in the documentation: https://pandas.pydata.org/pandas-docs/stable/user_guide/indexing.html#returning-a-view-versus-a-copy\n",
      "  tama_df['distance'] = tama_df.apply(lambda row: calculate_distance(latitude, longitude, row['latitude'], row['longitude']), axis=1)\n"
     ]
    },
    {
     "name": "stdout",
     "output_type": "stream",
     "text": [
      "nearest city קרית שמונה\n",
      "zoom out\n"
     ]
    },
    {
     "name": "stderr",
     "output_type": "stream",
     "text": [
      "/Users/sararozin/Documents/Tama Project/Tama/predict_next_years_approved_requests_distribution/predict_next_years_new_requests_distribution/models/sir/zoom_out.py:49: SettingWithCopyWarning: \n",
      "A value is trying to be set on a copy of a slice from a DataFrame.\n",
      "Try using .loc[row_indexer,col_indexer] = value instead\n",
      "\n",
      "See the caveats in the documentation: https://pandas.pydata.org/pandas-docs/stable/user_guide/indexing.html#returning-a-view-versus-a-copy\n",
      "  tama_df['distance'] = tama_df.apply(lambda row: calculate_distance(latitude, longitude, row['latitude'], row['longitude']), axis=1)\n"
     ]
    },
    {
     "name": "stdout",
     "output_type": "stream",
     "text": [
      "nearest city קרית שמונה\n",
      "zoom out\n"
     ]
    },
    {
     "name": "stderr",
     "output_type": "stream",
     "text": [
      "/Users/sararozin/Documents/Tama Project/Tama/predict_next_years_approved_requests_distribution/predict_next_years_new_requests_distribution/models/sir/zoom_out.py:49: SettingWithCopyWarning: \n",
      "A value is trying to be set on a copy of a slice from a DataFrame.\n",
      "Try using .loc[row_indexer,col_indexer] = value instead\n",
      "\n",
      "See the caveats in the documentation: https://pandas.pydata.org/pandas-docs/stable/user_guide/indexing.html#returning-a-view-versus-a-copy\n",
      "  tama_df['distance'] = tama_df.apply(lambda row: calculate_distance(latitude, longitude, row['latitude'], row['longitude']), axis=1)\n"
     ]
    },
    {
     "name": "stdout",
     "output_type": "stream",
     "text": [
      "nearest city קרית שמונה\n",
      "zoom out\n"
     ]
    },
    {
     "name": "stderr",
     "output_type": "stream",
     "text": [
      "/Users/sararozin/Documents/Tama Project/Tama/predict_next_years_approved_requests_distribution/predict_next_years_new_requests_distribution/models/sir/zoom_out.py:49: SettingWithCopyWarning: \n",
      "A value is trying to be set on a copy of a slice from a DataFrame.\n",
      "Try using .loc[row_indexer,col_indexer] = value instead\n",
      "\n",
      "See the caveats in the documentation: https://pandas.pydata.org/pandas-docs/stable/user_guide/indexing.html#returning-a-view-versus-a-copy\n",
      "  tama_df['distance'] = tama_df.apply(lambda row: calculate_distance(latitude, longitude, row['latitude'], row['longitude']), axis=1)\n"
     ]
    },
    {
     "name": "stdout",
     "output_type": "stream",
     "text": [
      "nearest city קרית שמונה\n",
      "zoom out\n"
     ]
    },
    {
     "name": "stderr",
     "output_type": "stream",
     "text": [
      "/Users/sararozin/Documents/Tama Project/Tama/predict_next_years_approved_requests_distribution/predict_next_years_new_requests_distribution/models/sir/zoom_out.py:49: SettingWithCopyWarning: \n",
      "A value is trying to be set on a copy of a slice from a DataFrame.\n",
      "Try using .loc[row_indexer,col_indexer] = value instead\n",
      "\n",
      "See the caveats in the documentation: https://pandas.pydata.org/pandas-docs/stable/user_guide/indexing.html#returning-a-view-versus-a-copy\n",
      "  tama_df['distance'] = tama_df.apply(lambda row: calculate_distance(latitude, longitude, row['latitude'], row['longitude']), axis=1)\n"
     ]
    },
    {
     "name": "stdout",
     "output_type": "stream",
     "text": [
      "nearest city קרית שמונה\n",
      "zoom out\n"
     ]
    },
    {
     "name": "stderr",
     "output_type": "stream",
     "text": [
      "/Users/sararozin/Documents/Tama Project/Tama/predict_next_years_approved_requests_distribution/predict_next_years_new_requests_distribution/models/sir/zoom_out.py:49: SettingWithCopyWarning: \n",
      "A value is trying to be set on a copy of a slice from a DataFrame.\n",
      "Try using .loc[row_indexer,col_indexer] = value instead\n",
      "\n",
      "See the caveats in the documentation: https://pandas.pydata.org/pandas-docs/stable/user_guide/indexing.html#returning-a-view-versus-a-copy\n",
      "  tama_df['distance'] = tama_df.apply(lambda row: calculate_distance(latitude, longitude, row['latitude'], row['longitude']), axis=1)\n"
     ]
    },
    {
     "name": "stdout",
     "output_type": "stream",
     "text": [
      "nearest city קרית שמונה\n",
      "zoom out\n"
     ]
    },
    {
     "name": "stderr",
     "output_type": "stream",
     "text": [
      "/Users/sararozin/Documents/Tama Project/Tama/predict_next_years_approved_requests_distribution/predict_next_years_new_requests_distribution/models/sir/zoom_out.py:49: SettingWithCopyWarning: \n",
      "A value is trying to be set on a copy of a slice from a DataFrame.\n",
      "Try using .loc[row_indexer,col_indexer] = value instead\n",
      "\n",
      "See the caveats in the documentation: https://pandas.pydata.org/pandas-docs/stable/user_guide/indexing.html#returning-a-view-versus-a-copy\n",
      "  tama_df['distance'] = tama_df.apply(lambda row: calculate_distance(latitude, longitude, row['latitude'], row['longitude']), axis=1)\n"
     ]
    },
    {
     "name": "stdout",
     "output_type": "stream",
     "text": [
      "nearest city קרית שמונה\n",
      "zoom out\n"
     ]
    },
    {
     "name": "stderr",
     "output_type": "stream",
     "text": [
      "/Users/sararozin/Documents/Tama Project/Tama/predict_next_years_approved_requests_distribution/predict_next_years_new_requests_distribution/models/sir/zoom_out.py:49: SettingWithCopyWarning: \n",
      "A value is trying to be set on a copy of a slice from a DataFrame.\n",
      "Try using .loc[row_indexer,col_indexer] = value instead\n",
      "\n",
      "See the caveats in the documentation: https://pandas.pydata.org/pandas-docs/stable/user_guide/indexing.html#returning-a-view-versus-a-copy\n",
      "  tama_df['distance'] = tama_df.apply(lambda row: calculate_distance(latitude, longitude, row['latitude'], row['longitude']), axis=1)\n"
     ]
    },
    {
     "name": "stdout",
     "output_type": "stream",
     "text": [
      "nearest city קרית שמונה\n",
      "zoom out\n"
     ]
    },
    {
     "name": "stderr",
     "output_type": "stream",
     "text": [
      "/Users/sararozin/Documents/Tama Project/Tama/predict_next_years_approved_requests_distribution/predict_next_years_new_requests_distribution/models/sir/zoom_out.py:49: SettingWithCopyWarning: \n",
      "A value is trying to be set on a copy of a slice from a DataFrame.\n",
      "Try using .loc[row_indexer,col_indexer] = value instead\n",
      "\n",
      "See the caveats in the documentation: https://pandas.pydata.org/pandas-docs/stable/user_guide/indexing.html#returning-a-view-versus-a-copy\n",
      "  tama_df['distance'] = tama_df.apply(lambda row: calculate_distance(latitude, longitude, row['latitude'], row['longitude']), axis=1)\n"
     ]
    },
    {
     "name": "stdout",
     "output_type": "stream",
     "text": [
      "nearest city קרית שמונה\n",
      "zoom out\n"
     ]
    },
    {
     "name": "stderr",
     "output_type": "stream",
     "text": [
      "/Users/sararozin/Documents/Tama Project/Tama/predict_next_years_approved_requests_distribution/predict_next_years_new_requests_distribution/models/sir/zoom_out.py:49: SettingWithCopyWarning: \n",
      "A value is trying to be set on a copy of a slice from a DataFrame.\n",
      "Try using .loc[row_indexer,col_indexer] = value instead\n",
      "\n",
      "See the caveats in the documentation: https://pandas.pydata.org/pandas-docs/stable/user_guide/indexing.html#returning-a-view-versus-a-copy\n",
      "  tama_df['distance'] = tama_df.apply(lambda row: calculate_distance(latitude, longitude, row['latitude'], row['longitude']), axis=1)\n"
     ]
    },
    {
     "name": "stdout",
     "output_type": "stream",
     "text": [
      "nearest city קרית שמונה\n",
      "zoom out\n"
     ]
    },
    {
     "name": "stderr",
     "output_type": "stream",
     "text": [
      "/Users/sararozin/Documents/Tama Project/Tama/predict_next_years_approved_requests_distribution/predict_next_years_new_requests_distribution/models/sir/zoom_out.py:49: SettingWithCopyWarning: \n",
      "A value is trying to be set on a copy of a slice from a DataFrame.\n",
      "Try using .loc[row_indexer,col_indexer] = value instead\n",
      "\n",
      "See the caveats in the documentation: https://pandas.pydata.org/pandas-docs/stable/user_guide/indexing.html#returning-a-view-versus-a-copy\n",
      "  tama_df['distance'] = tama_df.apply(lambda row: calculate_distance(latitude, longitude, row['latitude'], row['longitude']), axis=1)\n"
     ]
    },
    {
     "name": "stdout",
     "output_type": "stream",
     "text": [
      "nearest city קרית שמונה\n",
      "zoom out\n"
     ]
    },
    {
     "name": "stderr",
     "output_type": "stream",
     "text": [
      "/Users/sararozin/Documents/Tama Project/Tama/predict_next_years_approved_requests_distribution/predict_next_years_new_requests_distribution/models/sir/zoom_out.py:49: SettingWithCopyWarning: \n",
      "A value is trying to be set on a copy of a slice from a DataFrame.\n",
      "Try using .loc[row_indexer,col_indexer] = value instead\n",
      "\n",
      "See the caveats in the documentation: https://pandas.pydata.org/pandas-docs/stable/user_guide/indexing.html#returning-a-view-versus-a-copy\n",
      "  tama_df['distance'] = tama_df.apply(lambda row: calculate_distance(latitude, longitude, row['latitude'], row['longitude']), axis=1)\n"
     ]
    },
    {
     "name": "stdout",
     "output_type": "stream",
     "text": [
      "nearest city קרית שמונה\n",
      "zoom out\n"
     ]
    },
    {
     "name": "stderr",
     "output_type": "stream",
     "text": [
      "/Users/sararozin/Documents/Tama Project/Tama/predict_next_years_approved_requests_distribution/predict_next_years_new_requests_distribution/models/sir/zoom_out.py:49: SettingWithCopyWarning: \n",
      "A value is trying to be set on a copy of a slice from a DataFrame.\n",
      "Try using .loc[row_indexer,col_indexer] = value instead\n",
      "\n",
      "See the caveats in the documentation: https://pandas.pydata.org/pandas-docs/stable/user_guide/indexing.html#returning-a-view-versus-a-copy\n",
      "  tama_df['distance'] = tama_df.apply(lambda row: calculate_distance(latitude, longitude, row['latitude'], row['longitude']), axis=1)\n"
     ]
    },
    {
     "name": "stdout",
     "output_type": "stream",
     "text": [
      "nearest city קרית שמונה\n",
      "zoom out\n"
     ]
    },
    {
     "name": "stderr",
     "output_type": "stream",
     "text": [
      "/Users/sararozin/Documents/Tama Project/Tama/predict_next_years_approved_requests_distribution/predict_next_years_new_requests_distribution/models/sir/zoom_out.py:49: SettingWithCopyWarning: \n",
      "A value is trying to be set on a copy of a slice from a DataFrame.\n",
      "Try using .loc[row_indexer,col_indexer] = value instead\n",
      "\n",
      "See the caveats in the documentation: https://pandas.pydata.org/pandas-docs/stable/user_guide/indexing.html#returning-a-view-versus-a-copy\n",
      "  tama_df['distance'] = tama_df.apply(lambda row: calculate_distance(latitude, longitude, row['latitude'], row['longitude']), axis=1)\n"
     ]
    },
    {
     "name": "stdout",
     "output_type": "stream",
     "text": [
      "nearest city קרית שמונה\n",
      "zoom out\n"
     ]
    },
    {
     "name": "stderr",
     "output_type": "stream",
     "text": [
      "/Users/sararozin/Documents/Tama Project/Tama/predict_next_years_approved_requests_distribution/predict_next_years_new_requests_distribution/models/sir/zoom_out.py:49: SettingWithCopyWarning: \n",
      "A value is trying to be set on a copy of a slice from a DataFrame.\n",
      "Try using .loc[row_indexer,col_indexer] = value instead\n",
      "\n",
      "See the caveats in the documentation: https://pandas.pydata.org/pandas-docs/stable/user_guide/indexing.html#returning-a-view-versus-a-copy\n",
      "  tama_df['distance'] = tama_df.apply(lambda row: calculate_distance(latitude, longitude, row['latitude'], row['longitude']), axis=1)\n"
     ]
    },
    {
     "name": "stdout",
     "output_type": "stream",
     "text": [
      "nearest city קרית שמונה\n",
      "zoom out\n"
     ]
    },
    {
     "name": "stderr",
     "output_type": "stream",
     "text": [
      "/Users/sararozin/Documents/Tama Project/Tama/predict_next_years_approved_requests_distribution/predict_next_years_new_requests_distribution/models/sir/zoom_out.py:49: SettingWithCopyWarning: \n",
      "A value is trying to be set on a copy of a slice from a DataFrame.\n",
      "Try using .loc[row_indexer,col_indexer] = value instead\n",
      "\n",
      "See the caveats in the documentation: https://pandas.pydata.org/pandas-docs/stable/user_guide/indexing.html#returning-a-view-versus-a-copy\n",
      "  tama_df['distance'] = tama_df.apply(lambda row: calculate_distance(latitude, longitude, row['latitude'], row['longitude']), axis=1)\n"
     ]
    },
    {
     "name": "stdout",
     "output_type": "stream",
     "text": [
      "nearest city קרית שמונה\n",
      "zoom out\n"
     ]
    },
    {
     "name": "stderr",
     "output_type": "stream",
     "text": [
      "/Users/sararozin/Documents/Tama Project/Tama/predict_next_years_approved_requests_distribution/predict_next_years_new_requests_distribution/models/sir/zoom_out.py:49: SettingWithCopyWarning: \n",
      "A value is trying to be set on a copy of a slice from a DataFrame.\n",
      "Try using .loc[row_indexer,col_indexer] = value instead\n",
      "\n",
      "See the caveats in the documentation: https://pandas.pydata.org/pandas-docs/stable/user_guide/indexing.html#returning-a-view-versus-a-copy\n",
      "  tama_df['distance'] = tama_df.apply(lambda row: calculate_distance(latitude, longitude, row['latitude'], row['longitude']), axis=1)\n"
     ]
    },
    {
     "name": "stdout",
     "output_type": "stream",
     "text": [
      "nearest city קרית שמונה\n",
      "zoom out\n"
     ]
    },
    {
     "name": "stderr",
     "output_type": "stream",
     "text": [
      "/Users/sararozin/Documents/Tama Project/Tama/predict_next_years_approved_requests_distribution/predict_next_years_new_requests_distribution/models/sir/zoom_out.py:49: SettingWithCopyWarning: \n",
      "A value is trying to be set on a copy of a slice from a DataFrame.\n",
      "Try using .loc[row_indexer,col_indexer] = value instead\n",
      "\n",
      "See the caveats in the documentation: https://pandas.pydata.org/pandas-docs/stable/user_guide/indexing.html#returning-a-view-versus-a-copy\n",
      "  tama_df['distance'] = tama_df.apply(lambda row: calculate_distance(latitude, longitude, row['latitude'], row['longitude']), axis=1)\n"
     ]
    },
    {
     "name": "stdout",
     "output_type": "stream",
     "text": [
      "nearest city קרית שמונה\n",
      "zoom out\n"
     ]
    },
    {
     "name": "stderr",
     "output_type": "stream",
     "text": [
      "/Users/sararozin/Documents/Tama Project/Tama/predict_next_years_approved_requests_distribution/predict_next_years_new_requests_distribution/models/sir/zoom_out.py:49: SettingWithCopyWarning: \n",
      "A value is trying to be set on a copy of a slice from a DataFrame.\n",
      "Try using .loc[row_indexer,col_indexer] = value instead\n",
      "\n",
      "See the caveats in the documentation: https://pandas.pydata.org/pandas-docs/stable/user_guide/indexing.html#returning-a-view-versus-a-copy\n",
      "  tama_df['distance'] = tama_df.apply(lambda row: calculate_distance(latitude, longitude, row['latitude'], row['longitude']), axis=1)\n"
     ]
    },
    {
     "name": "stdout",
     "output_type": "stream",
     "text": [
      "nearest city קרית שמונה\n",
      "zoom out\n"
     ]
    },
    {
     "name": "stderr",
     "output_type": "stream",
     "text": [
      "/Users/sararozin/Documents/Tama Project/Tama/predict_next_years_approved_requests_distribution/predict_next_years_new_requests_distribution/models/sir/zoom_out.py:49: SettingWithCopyWarning: \n",
      "A value is trying to be set on a copy of a slice from a DataFrame.\n",
      "Try using .loc[row_indexer,col_indexer] = value instead\n",
      "\n",
      "See the caveats in the documentation: https://pandas.pydata.org/pandas-docs/stable/user_guide/indexing.html#returning-a-view-versus-a-copy\n",
      "  tama_df['distance'] = tama_df.apply(lambda row: calculate_distance(latitude, longitude, row['latitude'], row['longitude']), axis=1)\n"
     ]
    },
    {
     "name": "stdout",
     "output_type": "stream",
     "text": [
      "nearest city קרית שמונה\n",
      "zoom out\n",
      "nearest city קרית שמונה\n"
     ]
    },
    {
     "name": "stderr",
     "output_type": "stream",
     "text": [
      "/Users/sararozin/Documents/Tama Project/Tama/predict_next_years_approved_requests_distribution/predict_next_years_new_requests_distribution/models/sir/zoom_out.py:49: SettingWithCopyWarning: \n",
      "A value is trying to be set on a copy of a slice from a DataFrame.\n",
      "Try using .loc[row_indexer,col_indexer] = value instead\n",
      "\n",
      "See the caveats in the documentation: https://pandas.pydata.org/pandas-docs/stable/user_guide/indexing.html#returning-a-view-versus-a-copy\n",
      "  tama_df['distance'] = tama_df.apply(lambda row: calculate_distance(latitude, longitude, row['latitude'], row['longitude']), axis=1)\n"
     ]
    },
    {
     "ename": "TypeError",
     "evalue": "zoom_out() missing 1 required positional argument: 'tama_df'",
     "output_type": "error",
     "traceback": [
      "\u001B[0;31m---------------------------------------------------------------------------\u001B[0m",
      "\u001B[0;31mTypeError\u001B[0m                                 Traceback (most recent call last)",
      "Cell \u001B[0;32mIn[10], line 1\u001B[0m\n\u001B[0;32m----> 1\u001B[0m \u001B[43mpredict_total_requests\u001B[49m\u001B[43m(\u001B[49m\u001B[43mcity\u001B[49m\u001B[38;5;241;43m=\u001B[39;49m\u001B[38;5;241;43m2400\u001B[39;49m\u001B[43m,\u001B[49m\u001B[43m \u001B[49m\u001B[43myear\u001B[49m\u001B[38;5;241;43m=\u001B[39;49m\u001B[38;5;241;43m2012\u001B[39;49m\u001B[43m,\u001B[49m\u001B[43m \u001B[49m\u001B[43mhandle_missing_city\u001B[49m\u001B[38;5;241;43m=\u001B[39;49m\u001B[38;5;124;43m'\u001B[39;49m\u001B[38;5;124;43mzoom_out\u001B[39;49m\u001B[38;5;124;43m'\u001B[39;49m\u001B[43m)\u001B[49m\n",
      "Cell \u001B[0;32mIn[7], line 10\u001B[0m, in \u001B[0;36mpredict_total_requests\u001B[0;34m(city, year, handle_missing_city)\u001B[0m\n\u001B[1;32m      8\u001B[0m \u001B[38;5;28;01mif\u001B[39;00m \u001B[38;5;129;01mnot\u001B[39;00m city_model \u001B[38;5;129;01mand\u001B[39;00m handle_missing_city \u001B[38;5;241m==\u001B[39m \u001B[38;5;124m'\u001B[39m\u001B[38;5;124mzoom_out\u001B[39m\u001B[38;5;124m'\u001B[39m:\n\u001B[1;32m      9\u001B[0m     city_model \u001B[38;5;241m=\u001B[39m [model \u001B[38;5;28;01mfor\u001B[39;00m model \u001B[38;5;129;01min\u001B[39;00m sir_models \u001B[38;5;28;01mif\u001B[39;00m model[\u001B[38;5;124m'\u001B[39m\u001B[38;5;124mcity\u001B[39m\u001B[38;5;124m'\u001B[39m] \u001B[38;5;241m==\u001B[39m get_city_code(zoom_out(city, tama_for_zoom_out), tama_for_zoom_out)]\n\u001B[0;32m---> 10\u001B[0m     \u001B[38;5;28mprint\u001B[39m(get_city_code(\u001B[43mzoom_out\u001B[49m\u001B[43m(\u001B[49m\u001B[43mcity\u001B[49m\u001B[43m)\u001B[49m))\n\u001B[1;32m     11\u001B[0m \u001B[38;5;28;01mif\u001B[39;00m city_model:\n\u001B[1;32m     12\u001B[0m     city_model \u001B[38;5;241m=\u001B[39m city_model[\u001B[38;5;241m0\u001B[39m]\n",
      "\u001B[0;31mTypeError\u001B[0m: zoom_out() missing 1 required positional argument: 'tama_df'"
     ]
    }
   ],
   "source": [
    "predict_total_requests(city=2400, year=2012, handle_missing_city='zoom_out')"
   ]
  },
  {
   "cell_type": "code",
   "execution_count": null,
   "id": "c0daae37",
   "metadata": {
    "pycharm": {
     "name": "#%%\n"
    }
   },
   "outputs": [],
   "source": [
    "tama_df['predicted_total_requests'] = tama_df.apply(lambda row: predict_total_requests(row['city_code'], row['year']), axis=1)"
   ]
  },
  {
   "cell_type": "code",
   "execution_count": null,
   "id": "a00d8f47",
   "metadata": {},
   "outputs": [],
   "source": [
    "example_city_plot = tama_df[tama_df['city_code'] == 7200]\n",
    "example_city_plot.set_index('year')[['total_requests', 'predicted_total_requests']].plot()"
   ]
  },
  {
   "cell_type": "code",
   "execution_count": null,
   "id": "9928d03f",
   "metadata": {},
   "outputs": [],
   "source": [
    "example_city_plot = tama_df[tama_df['hebrew_city_name'] == 'תל אביב יפו']\n",
    "example_city_plot.set_index('year')[['total_requests', 'predicted_total_requests']].plot()"
   ]
  },
  {
   "cell_type": "code",
   "execution_count": null,
   "id": "c6991045",
   "metadata": {
    "pycharm": {
     "name": "#%%\n"
    }
   },
   "outputs": [],
   "source": [
    "example_city_plot = tama_df[tama_df['hebrew_city_name'] == 'ירושלים']\n",
    "example_city_plot.set_index('year')[['total_requests', 'predicted_total_requests']].plot()"
   ]
  },
  {
   "cell_type": "code",
   "execution_count": null,
   "id": "d5d91b9b",
   "metadata": {},
   "outputs": [],
   "source": [
    "from matplotlib import pyplot as plt\n",
    "def plot_sir(city):\n",
    "    with open(\"sir_model.json\") as sir_nodel_file:\n",
    "        sir_models = json.load(sir_nodel_file)\n",
    "        city_model = [model for model in sir_models if model['city'] == city]\n",
    "    if not city_model:\n",
    "        return\n",
    "    city_model = city_model[0] \n",
    "    N = 10000\n",
    "    I0 = 1\n",
    "    X0 = [N-I0, I0, 0]\n",
    "    t_data = np.linspace(0, 30, 30)\n",
    "    S = odeint(SIR, X0, t_data, args=(city_model['beta'], city_model['gamma'], N))[:,0]\n",
    "    I = odeint(SIR, X0, t_data, args=(city_model['beta'], city_model['gamma'], N))[:,1]\n",
    "    R = odeint(SIR, X0, t_data, args=(city_model['beta'], city_model['gamma'], N))[:,2]\n",
    "    N = S + I + R\n",
    "    plt.plot(t_data, S, label = \"Sensitive - Eligible to apply a Tama request\", color='gray')\n",
    "    plt.plot(t_data, I, label = \"Infected - New Requests\", color='red')\n",
    "    plt.plot(t_data, R, label = \"Recoverd - Approved Requests\", color='green')\n",
    "    plt.plot(t_data, N, label = \"Population, N = S + I + R\", color='black')\n",
    "    plt.legend()"
   ]
  },
  {
   "cell_type": "code",
   "execution_count": null,
   "id": "9eaa3573",
   "metadata": {},
   "outputs": [],
   "source": [
    "plot_sir(3000)"
   ]
  },
  {
   "cell_type": "code",
   "execution_count": null,
   "id": "87781e72",
   "metadata": {},
   "outputs": [],
   "source": [
    "example_city_plot = tama_df[tama_df['city_code'] == 2800]\n",
    "example_city_plot.set_index('year')[['total_requests', 'predicted_total_requests']].plot()"
   ]
  },
  {
   "cell_type": "code",
   "execution_count": null,
   "id": "1e639c7f",
   "metadata": {},
   "outputs": [],
   "source": [
    "tama_df = tama_df.dropna(subset='predicted_total_requests')\n",
    "train_df = tama_df[tama_df['year'] <= point_in_time]\n",
    "test_df = tama_df[tama_df['year'] > point_in_time]\n",
    "np.sqrt(mean_squared_error(train_df['total_requests'], train_df['predicted_total_requests']))"
   ]
  },
  {
   "cell_type": "code",
   "execution_count": null,
   "id": "c21bb87f",
   "metadata": {},
   "outputs": [],
   "source": [
    "np.sqrt(mean_squared_error(test_df['total_requests'], test_df['predicted_total_requests']))"
   ]
  },
  {
   "cell_type": "code",
   "execution_count": null,
   "id": "52658717",
   "metadata": {},
   "outputs": [],
   "source": []
  }
 ],
 "metadata": {
  "kernelspec": {
   "display_name": "Python 3 (ipykernel)",
   "language": "python",
   "name": "python3"
  },
  "language_info": {
   "codemirror_mode": {
    "name": "ipython",
    "version": 3
   },
   "file_extension": ".py",
   "mimetype": "text/x-python",
   "name": "python",
   "nbconvert_exporter": "python",
   "pygments_lexer": "ipython3",
   "version": "3.10.9"
  }
 },
 "nbformat": 4,
 "nbformat_minor": 5
}