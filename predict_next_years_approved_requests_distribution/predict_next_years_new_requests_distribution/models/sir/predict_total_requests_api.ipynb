{
 "cells": [
  {
   "cell_type": "code",
   "execution_count": 1,
   "id": "6f7af224",
   "metadata": {
    "pycharm": {
     "name": "#%%\n"
    }
   },
   "outputs": [],
   "source": [
    "import pandas as pd\n",
    "import numpy as np\n",
    "from scipy.integrate import odeint"
   ]
  },
  {
   "cell_type": "code",
   "execution_count": 2,
   "id": "85f849f8",
   "metadata": {
    "pycharm": {
     "name": "#%%\n"
    }
   },
   "outputs": [],
   "source": [
    "def SIR(X, t, beta, gamma, N):\n",
    "    \"\"\"\n",
    "    SIR model for tama requests prediction.\n",
    "    S = X[0], I=X[1], R=X[2]\n",
    "    \"\"\"\n",
    "    dSdt = -beta * X[0] * X[1] / N\n",
    "    dIdt = beta * X[0] * X[1] / N - gamma * X[1]\n",
    "    dRdt = gamma * X[1]\n",
    "    return [dSdt, dIdt, dRdt]\n",
    "    \n",
    "def infectedSIR(time_seq, beta, gamma):\n",
    "    N = 10000\n",
    "    I0 = 1\n",
    "    X0 = [N-I0, I0, 0]\n",
    "    return odeint(SIR, X0, time_seq, args=(beta, gamma, N))[:,1]"
   ]
  },
  {
   "cell_type": "code",
   "execution_count": 3,
   "id": "93ed1e75",
   "metadata": {
    "pycharm": {
     "name": "#%%\n"
    }
   },
   "outputs": [],
   "source": [
    "import json\n",
    "from zoom_out import zoom_out, get_city_name, get_city_code, tama_df as tama_for_zoom_out\n",
    "def predict_total_requests(city, year, handle_missing_city='min'):\n",
    "    with open(\"sir_model.json\") as sir_nodel_file:\n",
    "        sir_models = json.load(sir_nodel_file)\n",
    "        city_model = [model for model in sir_models if model['city'] == city]\n",
    "        normalized_year = year - 2005\n",
    "        if not city_model and handle_missing_city == 'zoom_out':\n",
    "            city_model = [model for model in sir_models if model['city'] == get_city_code(zoom_out(get_city_name(city, tama_for_zoom_out), tama_for_zoom_out), tama_for_zoom_out)]\n",
    "        if city_model:\n",
    "            city_model = city_model[0]\n",
    "            guess = infectedSIR(np.linspace(0, normalized_year, normalized_year + 1), city_model['beta'], city_model['gamma'])\n",
    "            return guess[normalized_year]\n",
    "        if hasattr(np, handle_missing_city):\n",
    "            operation = getattr(np, handle_missing_city)\n",
    "        else:\n",
    "            raise Exception('Invalid operation')\n",
    "        existing_cities = [model['city'] for model in sir_models]\n",
    "        guesses_existing_cities = []\n",
    "        for city in existing_cities:\n",
    "            city_model = [model for model in sir_models if model['city'] == city][0]\n",
    "            guesses_existing_cities += [infectedSIR(np.linspace(0, normalized_year, normalized_year + 1), city_model['beta'], city_model['gamma'])[normalized_year]]\n",
    "        return operation(np.array(guesses_existing_cities))            "
   ]
  }
 ],
 "metadata": {
  "kernelspec": {
   "display_name": "Python 3 (ipykernel)",
   "language": "python",
   "name": "python3"
  },
  "language_info": {
   "codemirror_mode": {
    "name": "ipython",
    "version": 3
   },
   "file_extension": ".py",
   "mimetype": "text/x-python",
   "name": "python",
   "nbconvert_exporter": "python",
   "pygments_lexer": "ipython3",
   "version": "3.10.9"
  }
 },
 "nbformat": 4,
 "nbformat_minor": 5
}
