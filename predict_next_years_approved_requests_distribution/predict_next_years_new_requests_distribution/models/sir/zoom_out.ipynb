{
 "cells": [
  {
   "cell_type": "code",
   "execution_count": null,
   "outputs": [],
   "source": [
    "import pandas as pd\n",
    "from math import radians, sin, cos, sqrt, atan2\n",
    "import json"
   ],
   "metadata": {
    "collapsed": false,
    "pycharm": {
     "name": "#%%\n"
    }
   }
  },
  {
   "cell_type": "code",
   "execution_count": null,
   "outputs": [],
   "source": [
    "tama_df = pd.read_csv('engineered_tama_data.csv')\n",
    "tama_df"
   ],
   "metadata": {
    "collapsed": false,
    "pycharm": {
     "name": "#%%\n"
    }
   }
  },
  {
   "cell_type": "code",
   "execution_count": null,
   "outputs": [],
   "source": [
    "from geopy.geocoders import Nominatim\n",
    "def get_city_coordinates(city):\n",
    "    # Create a geocoder instance\n",
    "    geolocator = Nominatim(user_agent=\"my_app\")\n",
    "    # Geocode the city to get the location information\n",
    "    location = geolocator.geocode(city, language=\"he\", timeout=10)\n",
    "    # Extract the latitude and longitude from the location data\n",
    "    if location:\n",
    "        latitude = location.latitude\n",
    "        longitude = location.longitude\n",
    "        return longitude, latitude\n",
    "    return None, None"
   ],
   "metadata": {
    "collapsed": false,
    "pycharm": {
     "name": "#%%\n"
    }
   }
  },
  {
   "cell_type": "code",
   "execution_count": null,
   "outputs": [],
   "source": [
    "def calculate_distance(lat1, lon1, lat2, lon2):\n",
    "    R = 6371  # Radius of the Earth in kilometers\n",
    "\n",
    "    # Convert latitude and longitude to radians\n",
    "    lat1, lon1, lat2, lon2 = map(radians, [lat1, lon1, lat2, lon2])\n",
    "\n",
    "    # Calculate the differences in latitude and longitude\n",
    "    dlat = lat2 - lat1\n",
    "    dlon = lon2 - lon1\n",
    "\n",
    "    # Apply the Haversine formula\n",
    "    a = sin(dlat / 2) ** 2 + cos(lat1) * cos(lat2) * sin(dlon / 2) ** 2\n",
    "    c = 2 * atan2(sqrt(a), sqrt(1 - a))\n",
    "    distance = R * c\n",
    "\n",
    "    return distance"
   ],
   "metadata": {
    "collapsed": false,
    "pycharm": {
     "name": "#%%\n"
    }
   }
  },
  {
   "cell_type": "code",
   "execution_count": null,
   "outputs": [],
   "source": [
    "def get_nearest_city(longitude, latitude, existing_cities, tama_df):\n",
    "    tama_df = tama_df[tama_df['city_code'].isin(existing_cities)]\n",
    "    # Calculate the distance from the reference point for each row in the dataframe\n",
    "    tama_df['distance'] = tama_df.apply(lambda row: calculate_distance(latitude, longitude, row['latitude'], row['longitude']), axis=1)\n",
    "\n",
    "    # Find the row with the minimum distance\n",
    "    nearest_point = tama_df.loc[tama_df['distance'].idxmin()]\n",
    "\n",
    "    # Print the nearest point\n",
    "    nearest_city = nearest_point['hebrew_city_name']\n",
    "    print('nearest city', nearest_city)\n",
    "    return nearest_city"
   ],
   "metadata": {
    "collapsed": false,
    "pycharm": {
     "name": "#%%\n"
    }
   }
  },
  {
   "cell_type": "code",
   "execution_count": null,
   "outputs": [],
   "source": [
    "def zoom_out(city, tama_df):\n",
    "    with open(\"sir_model.json\") as sir_nodel_file:\n",
    "        sir_models = json.load(sir_nodel_file)\n",
    "        existing_cities = [model['city'] for model in sir_models]\n",
    "    if city not in existing_cities:\n",
    "        print('zoom out')\n",
    "        city_df = tama_df[tama_df['hebrew_city_name'] == city]\n",
    "        if city_df.empty:\n",
    "            longitude, latitude = get_city_coordinates(city)\n",
    "        else:\n",
    "            longitude, latitude = city_df['longitude'].iloc[0], city_df['latitude'].iloc[0]\n",
    "        return get_nearest_city(longitude, latitude, existing_cities, tama_df)\n",
    "    return city"
   ],
   "metadata": {
    "collapsed": false,
    "pycharm": {
     "name": "#%%\n"
    }
   }
  },
  {
   "cell_type": "code",
   "execution_count": null,
   "outputs": [],
   "source": [
    "zoom_out('בית שמש', tama_df)"
   ],
   "metadata": {
    "collapsed": false,
    "pycharm": {
     "name": "#%%\n"
    }
   }
  },
  {
   "cell_type": "code",
   "execution_count": null,
   "outputs": [],
   "source": [
    "zoom_out('באר שבע', tama_df)"
   ],
   "metadata": {
    "collapsed": false,
    "pycharm": {
     "name": "#%%\n"
    }
   }
  },
  {
   "cell_type": "code",
   "execution_count": null,
   "outputs": [],
   "source": [
    "zoom_out('אור יהודה', tama_df)"
   ],
   "metadata": {
    "collapsed": false,
    "pycharm": {
     "name": "#%%\n"
    }
   }
  },
  {
   "cell_type": "code",
   "execution_count": null,
   "outputs": [],
   "source": [
    "def get_city_code(city):\n",
    "    city_map_name_to_code = tama_df[['hebrew_city_name', 'city_code']].drop_duplicates()\n",
    "    city_map_name_to_code = city_map_name_to_code[city_map_name_to_code['hebrew_city_name'] == city]['city_code']\n",
    "    return int(city_map_name_to_code)"
   ],
   "metadata": {
    "collapsed": false,
    "pycharm": {
     "name": "#%%\n"
    }
   }
  },
  {
   "cell_type": "code",
   "execution_count": null,
   "outputs": [],
   "source": [
    "get_city_code('קרית אונו')"
   ],
   "metadata": {
    "collapsed": false,
    "pycharm": {
     "name": "#%%\n"
    }
   }
  },
  {
   "cell_type": "code",
   "execution_count": null,
   "outputs": [],
   "source": [
    "get_city_code('רמת גן')"
   ],
   "metadata": {
    "collapsed": false,
    "pycharm": {
     "name": "#%%\n"
    }
   }
  },
  {
   "cell_type": "code",
   "execution_count": null,
   "outputs": [],
   "source": [
    "def get_city_name(city):\n",
    "    city_map_name_to_code = tama_df[['hebrew_city_name', 'city_code']].drop_duplicates()\n",
    "    city_map_name_to_code = city_map_name_to_code.loc[city_map_name_to_code['city_code'] == city, 'hebrew_city_name']\n",
    "    return list(city_map_name_to_code.values)[0]"
   ],
   "metadata": {
    "collapsed": false,
    "pycharm": {
     "name": "#%%\n"
    }
   }
  },
  {
   "cell_type": "code",
   "execution_count": 8,
   "id": "e85f9427",
   "metadata": {},
   "outputs": [
    {
     "name": "stdout",
     "output_type": "stream",
     "text": [
      "zoom out\n",
      "nearest city אשדוד\n"
     ]
    },
    {
     "name": "stderr",
     "output_type": "stream",
     "text": [
      "/var/folders/9d/pylsgxd55jj55h_1svvmnmjm0000gn/T/ipykernel_17016/1323810488.py:4: SettingWithCopyWarning: \n",
      "A value is trying to be set on a copy of a slice from a DataFrame.\n",
      "Try using .loc[row_indexer,col_indexer] = value instead\n",
      "\n",
      "See the caveats in the documentation: https://pandas.pydata.org/pandas-docs/stable/user_guide/indexing.html#returning-a-view-versus-a-copy\n",
      "  tama_df['distance'] = tama_df.apply(lambda row: calculate_distance(latitude, longitude, row['latitude'], row['longitude']), axis=1)\n"
     ]
    },
    {
     "data": {
      "text/plain": [
       "'אשדוד'"
      ]
     },
     "execution_count": 8,
     "metadata": {},
     "output_type": "execute_result"
    }
   ],
   "source": [
    "zoom_out('באר שבע', tama_df)"
   ]
  },
  {
   "cell_type": "code",
   "execution_count": 13,
   "id": "97959876",
   "metadata": {},
   "outputs": [
    {
     "name": "stdout",
     "output_type": "stream",
     "text": [
      "zoom out\n",
      "nearest city קרית אונו\n"
     ]
    },
    {
     "name": "stderr",
     "output_type": "stream",
     "text": [
      "/var/folders/9d/pylsgxd55jj55h_1svvmnmjm0000gn/T/ipykernel_17016/1323810488.py:4: SettingWithCopyWarning: \n",
      "A value is trying to be set on a copy of a slice from a DataFrame.\n",
      "Try using .loc[row_indexer,col_indexer] = value instead\n",
      "\n",
      "See the caveats in the documentation: https://pandas.pydata.org/pandas-docs/stable/user_guide/indexing.html#returning-a-view-versus-a-copy\n",
      "  tama_df['distance'] = tama_df.apply(lambda row: calculate_distance(latitude, longitude, row['latitude'], row['longitude']), axis=1)\n"
     ]
    },
    {
     "data": {
      "text/plain": [
       "'קרית אונו'"
      ]
     },
     "execution_count": 13,
     "metadata": {},
     "output_type": "execute_result"
    }
   ],
   "source": [
    "zoom_out('אור יהודה', tama_df)"
   ]
  },
  {
   "cell_type": "code",
   "execution_count": 9,
   "id": "428a62d4",
   "metadata": {
    "pycharm": {
     "name": "#%%\n"
    }
   },
   "outputs": [],
   "source": [
    "def get_city_code(city):\n",
    "    city_map_name_to_code = tama_df[['hebrew_city_name', 'city_code']].drop_duplicates()\n",
    "    city_map_name_to_code = city_map_name_to_code[city_map_name_to_code['hebrew_city_name'] == city]['city_code']\n",
    "    return int(city_map_name_to_code)"
   ]
  },
  {
   "cell_type": "code",
   "execution_count": 14,
   "id": "120c9e32",
   "metadata": {},
   "outputs": [
    {
     "data": {
      "text/plain": [
       "2620"
      ]
     },
     "execution_count": 14,
     "metadata": {},
     "output_type": "execute_result"
    }
   ],
   "source": [
    "get_city_code('קרית אונו')"
   ]
  },
  {
   "cell_type": "code",
   "execution_count": 10,
   "id": "b36111dc",
   "metadata": {
    "pycharm": {
     "name": "#%%\n"
    }
   },
   "outputs": [
    {
     "data": {
      "text/plain": [
       "8600"
      ]
     },
     "execution_count": 10,
     "metadata": {},
     "output_type": "execute_result"
    }
   ],
   "source": [
    "get_city_code('רמת גן')"
   ]
  },
  {
   "cell_type": "code",
   "execution_count": 11,
   "id": "0f31ef5e",
   "metadata": {
    "pycharm": {
     "name": "#%%\n"
    }
   },
   "outputs": [],
   "source": [
    "def get_city_name(city):\n",
    "    city_map_name_to_code = tama_df[['hebrew_city_name', 'city_code']].drop_duplicates()\n",
    "    city_map_name_to_code = city_map_name_to_code.loc[city_map_name_to_code['city_code'] == city, 'hebrew_city_name']\n",
    "    return list(city_map_name_to_code.values)[0]"
   ]
  },
  {
   "cell_type": "code",
   "execution_count": 12,
   "id": "653bfb2c",
   "metadata": {
    "pycharm": {
     "name": "#%%\n"
    }
   },
   "outputs": [
    {
     "data": {
      "text/plain": [
       "'רמת גן'"
      ]
     },
     "execution_count": 12,
     "metadata": {},
     "output_type": "execute_result"
    }
   ],
   "source": [
    "get_city_name(8600)"
   ]
  },
  {
   "cell_type": "code",
   "execution_count": null,
   "id": "260282d1",
   "metadata": {
    "pycharm": {
     "name": "#%%\n"
    }
   },
   "outputs": [],
   "source": []
  }
 ],
 "metadata": {
  "kernelspec": {
   "display_name": "Python 3 (ipykernel)",
   "language": "python",
   "name": "python3"
  },
  "language_info": {
   "codemirror_mode": {
    "name": "ipython",
    "version": 3
   },
   "file_extension": ".py",
   "mimetype": "text/x-python",
   "name": "python",
   "nbconvert_exporter": "python",
   "pygments_lexer": "ipython3",
   "version": "3.10.9"
  }
 },
 "nbformat": 4,
 "nbformat_minor": 5
}