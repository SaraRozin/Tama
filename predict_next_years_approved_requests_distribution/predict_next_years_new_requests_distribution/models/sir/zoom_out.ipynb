{
 "cells": [
  {
   "cell_type": "code",
   "execution_count": 1,
   "id": "6fc18d98",
   "metadata": {
    "pycharm": {
     "name": "#%%\n"
    }
   },
   "outputs": [],
   "source": [
    "import pandas as pd\n",
    "from math import radians, sin, cos, sqrt, atan2\n",
    "import json"
   ]
  },
  {
   "cell_type": "code",
   "execution_count": 2,
   "id": "84fba0cf",
   "metadata": {
    "pycharm": {
     "name": "#%%\n"
    }
   },
   "outputs": [
    {
     "data": {
      "text/html": [
       "<div>\n",
       "<style scoped>\n",
       "    .dataframe tbody tr th:only-of-type {\n",
       "        vertical-align: middle;\n",
       "    }\n",
       "\n",
       "    .dataframe tbody tr th {\n",
       "        vertical-align: top;\n",
       "    }\n",
       "\n",
       "    .dataframe thead th {\n",
       "        text-align: right;\n",
       "    }\n",
       "</style>\n",
       "<table border=\"1\" class=\"dataframe\">\n",
       "  <thead>\n",
       "    <tr style=\"text-align: right;\">\n",
       "      <th></th>\n",
       "      <th>hebrew_city_name</th>\n",
       "      <th>city_code</th>\n",
       "      <th>year</th>\n",
       "      <th>total_open_requests</th>\n",
       "      <th>total_requests</th>\n",
       "      <th>total_approved_requests</th>\n",
       "      <th>longitude</th>\n",
       "      <th>latitude</th>\n",
       "    </tr>\n",
       "  </thead>\n",
       "  <tbody>\n",
       "    <tr>\n",
       "      <th>0</th>\n",
       "      <td>אור יהודה</td>\n",
       "      <td>2400</td>\n",
       "      <td>2005</td>\n",
       "      <td>0</td>\n",
       "      <td>0.0</td>\n",
       "      <td>0.0</td>\n",
       "      <td>34.852394</td>\n",
       "      <td>32.030971</td>\n",
       "    </tr>\n",
       "    <tr>\n",
       "      <th>1</th>\n",
       "      <td>אור יהודה</td>\n",
       "      <td>2400</td>\n",
       "      <td>2006</td>\n",
       "      <td>0</td>\n",
       "      <td>0.0</td>\n",
       "      <td>0.0</td>\n",
       "      <td>34.852394</td>\n",
       "      <td>32.030971</td>\n",
       "    </tr>\n",
       "    <tr>\n",
       "      <th>2</th>\n",
       "      <td>אור יהודה</td>\n",
       "      <td>2400</td>\n",
       "      <td>2007</td>\n",
       "      <td>0</td>\n",
       "      <td>0.0</td>\n",
       "      <td>0.0</td>\n",
       "      <td>34.852394</td>\n",
       "      <td>32.030971</td>\n",
       "    </tr>\n",
       "    <tr>\n",
       "      <th>3</th>\n",
       "      <td>אור יהודה</td>\n",
       "      <td>2400</td>\n",
       "      <td>2008</td>\n",
       "      <td>0</td>\n",
       "      <td>1.0</td>\n",
       "      <td>0.0</td>\n",
       "      <td>34.852394</td>\n",
       "      <td>32.030971</td>\n",
       "    </tr>\n",
       "    <tr>\n",
       "      <th>4</th>\n",
       "      <td>אור יהודה</td>\n",
       "      <td>2400</td>\n",
       "      <td>2009</td>\n",
       "      <td>1</td>\n",
       "      <td>0.0</td>\n",
       "      <td>0.0</td>\n",
       "      <td>34.852394</td>\n",
       "      <td>32.030971</td>\n",
       "    </tr>\n",
       "    <tr>\n",
       "      <th>...</th>\n",
       "      <td>...</td>\n",
       "      <td>...</td>\n",
       "      <td>...</td>\n",
       "      <td>...</td>\n",
       "      <td>...</td>\n",
       "      <td>...</td>\n",
       "      <td>...</td>\n",
       "      <td>...</td>\n",
       "    </tr>\n",
       "    <tr>\n",
       "      <th>1075</th>\n",
       "      <td>תל אביב יפו</td>\n",
       "      <td>5000</td>\n",
       "      <td>2018</td>\n",
       "      <td>687</td>\n",
       "      <td>164.0</td>\n",
       "      <td>83.0</td>\n",
       "      <td>34.781806</td>\n",
       "      <td>32.085300</td>\n",
       "    </tr>\n",
       "    <tr>\n",
       "      <th>1076</th>\n",
       "      <td>תל אביב יפו</td>\n",
       "      <td>5000</td>\n",
       "      <td>2019</td>\n",
       "      <td>768</td>\n",
       "      <td>116.0</td>\n",
       "      <td>149.0</td>\n",
       "      <td>34.781806</td>\n",
       "      <td>32.085300</td>\n",
       "    </tr>\n",
       "    <tr>\n",
       "      <th>1077</th>\n",
       "      <td>תל אביב יפו</td>\n",
       "      <td>5000</td>\n",
       "      <td>2020</td>\n",
       "      <td>735</td>\n",
       "      <td>238.0</td>\n",
       "      <td>115.0</td>\n",
       "      <td>34.781806</td>\n",
       "      <td>32.085300</td>\n",
       "    </tr>\n",
       "    <tr>\n",
       "      <th>1078</th>\n",
       "      <td>תל אביב יפו</td>\n",
       "      <td>5000</td>\n",
       "      <td>2021</td>\n",
       "      <td>858</td>\n",
       "      <td>240.0</td>\n",
       "      <td>124.0</td>\n",
       "      <td>34.781806</td>\n",
       "      <td>32.085300</td>\n",
       "    </tr>\n",
       "    <tr>\n",
       "      <th>1079</th>\n",
       "      <td>תל אביב יפו</td>\n",
       "      <td>5000</td>\n",
       "      <td>2022</td>\n",
       "      <td>974</td>\n",
       "      <td>209.0</td>\n",
       "      <td>133.0</td>\n",
       "      <td>34.781806</td>\n",
       "      <td>32.085300</td>\n",
       "    </tr>\n",
       "  </tbody>\n",
       "</table>\n",
       "<p>1080 rows × 8 columns</p>\n",
       "</div>"
      ],
      "text/plain": [
       "     hebrew_city_name  city_code  year  total_open_requests  total_requests  \\\n",
       "0           אור יהודה       2400  2005                    0             0.0   \n",
       "1           אור יהודה       2400  2006                    0             0.0   \n",
       "2           אור יהודה       2400  2007                    0             0.0   \n",
       "3           אור יהודה       2400  2008                    0             1.0   \n",
       "4           אור יהודה       2400  2009                    1             0.0   \n",
       "...               ...        ...   ...                  ...             ...   \n",
       "1075      תל אביב יפו       5000  2018                  687           164.0   \n",
       "1076      תל אביב יפו       5000  2019                  768           116.0   \n",
       "1077      תל אביב יפו       5000  2020                  735           238.0   \n",
       "1078      תל אביב יפו       5000  2021                  858           240.0   \n",
       "1079      תל אביב יפו       5000  2022                  974           209.0   \n",
       "\n",
       "      total_approved_requests  longitude   latitude  \n",
       "0                         0.0  34.852394  32.030971  \n",
       "1                         0.0  34.852394  32.030971  \n",
       "2                         0.0  34.852394  32.030971  \n",
       "3                         0.0  34.852394  32.030971  \n",
       "4                         0.0  34.852394  32.030971  \n",
       "...                       ...        ...        ...  \n",
       "1075                     83.0  34.781806  32.085300  \n",
       "1076                    149.0  34.781806  32.085300  \n",
       "1077                    115.0  34.781806  32.085300  \n",
       "1078                    124.0  34.781806  32.085300  \n",
       "1079                    133.0  34.781806  32.085300  \n",
       "\n",
       "[1080 rows x 8 columns]"
      ]
     },
     "execution_count": 2,
     "metadata": {},
     "output_type": "execute_result"
    }
   ],
   "source": [
    "tama_df = pd.read_csv('engineered_tama_data.csv')\n",
    "tama_df"
   ]
  },
  {
   "cell_type": "code",
   "execution_count": 3,
   "id": "950880fb",
   "metadata": {},
   "outputs": [],
   "source": [
    "from geopy.geocoders import Nominatim\n",
    "def get_city_coordinates(city):\n",
    "    # Create a geocoder instance\n",
    "    geolocator = Nominatim(user_agent=\"my_app\")\n",
    "    # Geocode the city to get the location information\n",
    "    location = geolocator.geocode(city, language=\"he\", timeout=10)\n",
    "    # Extract the latitude and longitude from the location data\n",
    "    if location:\n",
    "        latitude = location.latitude\n",
    "        longitude = location.longitude\n",
    "        return longitude, latitude\n",
    "    return None, None"
   ]
  },
  {
   "cell_type": "code",
   "execution_count": 4,
   "id": "e82d8228",
   "metadata": {
    "pycharm": {
     "name": "#%%\n"
    }
   },
   "outputs": [],
   "source": [
    "def calculate_distance(lat1, lon1, lat2, lon2):\n",
    "    R = 6371  # Radius of the Earth in kilometers\n",
    "\n",
    "    # Convert latitude and longitude to radians\n",
    "    lat1, lon1, lat2, lon2 = map(radians, [lat1, lon1, lat2, lon2])\n",
    "\n",
    "    # Calculate the differences in latitude and longitude\n",
    "    dlat = lat2 - lat1\n",
    "    dlon = lon2 - lon1\n",
    "\n",
    "    # Apply the Haversine formula\n",
    "    a = sin(dlat / 2) ** 2 + cos(lat1) * cos(lat2) * sin(dlon / 2) ** 2\n",
    "    c = 2 * atan2(sqrt(a), sqrt(1 - a))\n",
    "    distance = R * c\n",
    "\n",
    "    return distance"
   ]
  },
  {
   "cell_type": "code",
   "execution_count": 5,
   "id": "86bb309d",
   "metadata": {},
   "outputs": [],
   "source": [
    "def get_nearest_city(longitude, latitude, existing_cities, tama_df):\n",
    "    tama_df = tama_df[tama_df['city_code'].isin(existing_cities)]\n",
    "    # Calculate the distance from the reference point for each row in the dataframe\n",
    "    tama_df['distance'] = tama_df.apply(lambda row: calculate_distance(latitude, longitude, row['latitude'], row['longitude']), axis=1)\n",
    "\n",
    "    # Find the row with the minimum distance\n",
    "    nearest_point = tama_df.loc[tama_df['distance'].idxmin()]\n",
    "\n",
    "    # Print the nearest point\n",
    "    nearest_city = nearest_point['hebrew_city_name']\n",
    "    print('nearest city', nearest_city)\n",
    "    return nearest_city"
   ]
  },
  {
   "cell_type": "code",
   "execution_count": 6,
   "id": "768426a0",
   "metadata": {},
   "outputs": [],
   "source": [
    "def zoom_out(city, tama_df):\n",
    "    with open(\"sir_model.json\") as sir_nodel_file:\n",
    "        sir_models = json.load(sir_nodel_file)\n",
    "        existing_cities = [model['city'] for model in sir_models]\n",
    "    if city not in existing_cities:\n",
    "        print('zoom out')\n",
    "        city_df = tama_df[tama_df['hebrew_city_name'] == city]\n",
    "        if city_df.empty:\n",
    "            longitude, latitude = get_city_coordinates(city)\n",
    "        else:\n",
    "            longitude, latitude = city_df['longitude'].iloc[0], city_df['latitude'].iloc[0]\n",
    "        return get_nearest_city(longitude, latitude, existing_cities, tama_df)\n",
    "    return city"
   ]
  },
  {
   "cell_type": "code",
   "execution_count": 7,
   "id": "6873e72e",
   "metadata": {
    "pycharm": {
     "name": "#%%\n"
    }
   },
   "outputs": [
    {
     "name": "stdout",
     "output_type": "stream",
     "text": [
      "zoom out\n",
      "nearest city ירושלים\n"
     ]
    },
    {
     "name": "stderr",
     "output_type": "stream",
     "text": [
      "/var/folders/9d/pylsgxd55jj55h_1svvmnmjm0000gn/T/ipykernel_17016/1323810488.py:4: SettingWithCopyWarning: \n",
      "A value is trying to be set on a copy of a slice from a DataFrame.\n",
      "Try using .loc[row_indexer,col_indexer] = value instead\n",
      "\n",
      "See the caveats in the documentation: https://pandas.pydata.org/pandas-docs/stable/user_guide/indexing.html#returning-a-view-versus-a-copy\n",
      "  tama_df['distance'] = tama_df.apply(lambda row: calculate_distance(latitude, longitude, row['latitude'], row['longitude']), axis=1)\n"
     ]
    },
    {
     "data": {
      "text/plain": [
       "'ירושלים'"
      ]
     },
     "execution_count": 7,
     "metadata": {},
     "output_type": "execute_result"
    }
   ],
   "source": [
    "zoom_out('בית שמש', tama_df)"
   ]
  },
  {
   "cell_type": "code",
   "execution_count": 8,
   "id": "314eb2ca",
   "metadata": {},
   "outputs": [
    {
     "name": "stdout",
     "output_type": "stream",
     "text": [
      "zoom out\n",
      "nearest city אשדוד\n"
     ]
    },
    {
     "name": "stderr",
     "output_type": "stream",
     "text": [
      "/var/folders/9d/pylsgxd55jj55h_1svvmnmjm0000gn/T/ipykernel_17016/1323810488.py:4: SettingWithCopyWarning: \n",
      "A value is trying to be set on a copy of a slice from a DataFrame.\n",
      "Try using .loc[row_indexer,col_indexer] = value instead\n",
      "\n",
      "See the caveats in the documentation: https://pandas.pydata.org/pandas-docs/stable/user_guide/indexing.html#returning-a-view-versus-a-copy\n",
      "  tama_df['distance'] = tama_df.apply(lambda row: calculate_distance(latitude, longitude, row['latitude'], row['longitude']), axis=1)\n"
     ]
    },
    {
     "data": {
      "text/plain": [
       "'אשדוד'"
      ]
     },
     "execution_count": 8,
     "metadata": {},
     "output_type": "execute_result"
    }
   ],
   "source": [
    "zoom_out('באר שבע', tama_df)"
   ]
  },
  {
   "cell_type": "code",
   "execution_count": 13,
   "id": "0f5fcbf9",
   "metadata": {},
   "outputs": [
    {
     "name": "stdout",
     "output_type": "stream",
     "text": [
      "zoom out\n",
      "nearest city קרית אונו\n"
     ]
    },
    {
     "name": "stderr",
     "output_type": "stream",
     "text": [
      "/var/folders/9d/pylsgxd55jj55h_1svvmnmjm0000gn/T/ipykernel_17016/1323810488.py:4: SettingWithCopyWarning: \n",
      "A value is trying to be set on a copy of a slice from a DataFrame.\n",
      "Try using .loc[row_indexer,col_indexer] = value instead\n",
      "\n",
      "See the caveats in the documentation: https://pandas.pydata.org/pandas-docs/stable/user_guide/indexing.html#returning-a-view-versus-a-copy\n",
      "  tama_df['distance'] = tama_df.apply(lambda row: calculate_distance(latitude, longitude, row['latitude'], row['longitude']), axis=1)\n"
     ]
    },
    {
     "data": {
      "text/plain": [
       "'קרית אונו'"
      ]
     },
     "execution_count": 13,
     "metadata": {},
     "output_type": "execute_result"
    }
   ],
   "source": [
    "zoom_out('אור יהודה', tama_df)"
   ]
  },
  {
   "cell_type": "code",
   "execution_count": 9,
   "id": "428a62d4",
   "metadata": {
    "pycharm": {
     "name": "#%%\n"
    }
   },
   "outputs": [],
   "source": [
    "def get_city_code(city):\n",
    "    city_map_name_to_code = tama_df[['hebrew_city_name', 'city_code']].drop_duplicates()\n",
    "    city_map_name_to_code = city_map_name_to_code[city_map_name_to_code['hebrew_city_name'] == city]['city_code']\n",
    "    return int(city_map_name_to_code)"
   ]
  },
  {
   "cell_type": "code",
   "execution_count": 14,
   "id": "7ea6f8c1",
   "metadata": {},
   "outputs": [
    {
     "data": {
      "text/plain": [
       "2620"
      ]
     },
     "execution_count": 14,
     "metadata": {},
     "output_type": "execute_result"
    }
   ],
   "source": [
    "get_city_code('קרית אונו')"
   ]
  },
  {
   "cell_type": "code",
   "execution_count": 10,
   "id": "b36111dc",
   "metadata": {
    "pycharm": {
     "name": "#%%\n"
    }
   },
   "outputs": [
    {
     "data": {
      "text/plain": [
       "8600"
      ]
     },
     "execution_count": 10,
     "metadata": {},
     "output_type": "execute_result"
    }
   ],
   "source": [
    "get_city_code('רמת גן')"
   ]
  },
  {
   "cell_type": "code",
   "execution_count": 11,
   "id": "0f31ef5e",
   "metadata": {
    "pycharm": {
     "name": "#%%\n"
    }
   },
   "outputs": [],
   "source": [
    "def get_city_name(city):\n",
    "    city_map_name_to_code = tama_df[['hebrew_city_name', 'city_code']].drop_duplicates()\n",
    "    city_map_name_to_code = city_map_name_to_code.loc[city_map_name_to_code['city_code'] == city, 'hebrew_city_name']\n",
    "    return list(city_map_name_to_code.values)[0]"
   ]
  },
  {
   "cell_type": "code",
   "execution_count": 12,
   "id": "653bfb2c",
   "metadata": {
    "pycharm": {
     "name": "#%%\n"
    }
   },
   "outputs": [
    {
     "data": {
      "text/plain": [
       "'רמת גן'"
      ]
     },
     "execution_count": 12,
     "metadata": {},
     "output_type": "execute_result"
    }
   ],
   "source": [
    "get_city_name(8600)"
   ]
  },
  {
   "cell_type": "code",
   "execution_count": null,
   "id": "260282d1",
   "metadata": {
    "pycharm": {
     "name": "#%%\n"
    }
   },
   "outputs": [],
   "source": []
  }
 ],
 "metadata": {
  "kernelspec": {
   "display_name": "Python 3 (ipykernel)",
   "language": "python",
   "name": "python3"
  },
  "language_info": {
   "codemirror_mode": {
    "name": "ipython",
    "version": 3
   },
   "file_extension": ".py",
   "mimetype": "text/x-python",
   "name": "python",
   "nbconvert_exporter": "python",
   "pygments_lexer": "ipython3",
   "version": "3.10.9"
  }
 },
 "nbformat": 4,
 "nbformat_minor": 5
}