{
 "cells": [
  {
   "cell_type": "code",
   "execution_count": 1,
   "id": "75d73e81",
   "metadata": {
    "pycharm": {
     "name": "#%%\n"
    }
   },
   "outputs": [
    {
     "data": {
      "text/html": [
       "<div>\n",
       "<style scoped>\n",
       "    .dataframe tbody tr th:only-of-type {\n",
       "        vertical-align: middle;\n",
       "    }\n",
       "\n",
       "    .dataframe tbody tr th {\n",
       "        vertical-align: top;\n",
       "    }\n",
       "\n",
       "    .dataframe thead th {\n",
       "        text-align: right;\n",
       "    }\n",
       "</style>\n",
       "<table border=\"1\" class=\"dataframe\">\n",
       "  <thead>\n",
       "    <tr style=\"text-align: right;\">\n",
       "      <th></th>\n",
       "      <th>hebrew_city_name</th>\n",
       "      <th>city_code</th>\n",
       "      <th>total_open_requests</th>\n",
       "      <th>total_requests</th>\n",
       "      <th>total_approved_requests</th>\n",
       "    </tr>\n",
       "    <tr>\n",
       "      <th>year</th>\n",
       "      <th></th>\n",
       "      <th></th>\n",
       "      <th></th>\n",
       "      <th></th>\n",
       "      <th></th>\n",
       "    </tr>\n",
       "  </thead>\n",
       "  <tbody>\n",
       "    <tr>\n",
       "      <th>2005</th>\n",
       "      <td>ירושלים</td>\n",
       "      <td>3000</td>\n",
       "      <td>0</td>\n",
       "      <td>0.0</td>\n",
       "      <td>0.0</td>\n",
       "    </tr>\n",
       "    <tr>\n",
       "      <th>2006</th>\n",
       "      <td>ירושלים</td>\n",
       "      <td>3000</td>\n",
       "      <td>0</td>\n",
       "      <td>1.0</td>\n",
       "      <td>0.0</td>\n",
       "    </tr>\n",
       "    <tr>\n",
       "      <th>2007</th>\n",
       "      <td>ירושלים</td>\n",
       "      <td>3000</td>\n",
       "      <td>1</td>\n",
       "      <td>0.0</td>\n",
       "      <td>0.0</td>\n",
       "    </tr>\n",
       "    <tr>\n",
       "      <th>2008</th>\n",
       "      <td>ירושלים</td>\n",
       "      <td>3000</td>\n",
       "      <td>1</td>\n",
       "      <td>1.0</td>\n",
       "      <td>0.0</td>\n",
       "    </tr>\n",
       "    <tr>\n",
       "      <th>2009</th>\n",
       "      <td>ירושלים</td>\n",
       "      <td>3000</td>\n",
       "      <td>2</td>\n",
       "      <td>2.0</td>\n",
       "      <td>0.0</td>\n",
       "    </tr>\n",
       "    <tr>\n",
       "      <th>2010</th>\n",
       "      <td>ירושלים</td>\n",
       "      <td>3000</td>\n",
       "      <td>4</td>\n",
       "      <td>4.0</td>\n",
       "      <td>0.0</td>\n",
       "    </tr>\n",
       "    <tr>\n",
       "      <th>2011</th>\n",
       "      <td>ירושלים</td>\n",
       "      <td>3000</td>\n",
       "      <td>8</td>\n",
       "      <td>6.0</td>\n",
       "      <td>1.0</td>\n",
       "    </tr>\n",
       "    <tr>\n",
       "      <th>2012</th>\n",
       "      <td>ירושלים</td>\n",
       "      <td>3000</td>\n",
       "      <td>13</td>\n",
       "      <td>6.0</td>\n",
       "      <td>7.0</td>\n",
       "    </tr>\n",
       "    <tr>\n",
       "      <th>2013</th>\n",
       "      <td>ירושלים</td>\n",
       "      <td>3000</td>\n",
       "      <td>12</td>\n",
       "      <td>13.0</td>\n",
       "      <td>3.0</td>\n",
       "    </tr>\n",
       "    <tr>\n",
       "      <th>2014</th>\n",
       "      <td>ירושלים</td>\n",
       "      <td>3000</td>\n",
       "      <td>22</td>\n",
       "      <td>30.0</td>\n",
       "      <td>6.0</td>\n",
       "    </tr>\n",
       "    <tr>\n",
       "      <th>2015</th>\n",
       "      <td>ירושלים</td>\n",
       "      <td>3000</td>\n",
       "      <td>46</td>\n",
       "      <td>52.0</td>\n",
       "      <td>17.0</td>\n",
       "    </tr>\n",
       "    <tr>\n",
       "      <th>2016</th>\n",
       "      <td>ירושלים</td>\n",
       "      <td>3000</td>\n",
       "      <td>81</td>\n",
       "      <td>71.0</td>\n",
       "      <td>21.0</td>\n",
       "    </tr>\n",
       "    <tr>\n",
       "      <th>2017</th>\n",
       "      <td>ירושלים</td>\n",
       "      <td>3000</td>\n",
       "      <td>131</td>\n",
       "      <td>67.0</td>\n",
       "      <td>37.0</td>\n",
       "    </tr>\n",
       "    <tr>\n",
       "      <th>2018</th>\n",
       "      <td>ירושלים</td>\n",
       "      <td>3000</td>\n",
       "      <td>161</td>\n",
       "      <td>65.0</td>\n",
       "      <td>36.0</td>\n",
       "    </tr>\n",
       "    <tr>\n",
       "      <th>2019</th>\n",
       "      <td>ירושלים</td>\n",
       "      <td>3000</td>\n",
       "      <td>190</td>\n",
       "      <td>92.0</td>\n",
       "      <td>66.0</td>\n",
       "    </tr>\n",
       "    <tr>\n",
       "      <th>2020</th>\n",
       "      <td>ירושלים</td>\n",
       "      <td>3000</td>\n",
       "      <td>216</td>\n",
       "      <td>75.0</td>\n",
       "      <td>47.0</td>\n",
       "    </tr>\n",
       "    <tr>\n",
       "      <th>2021</th>\n",
       "      <td>ירושלים</td>\n",
       "      <td>3000</td>\n",
       "      <td>244</td>\n",
       "      <td>87.0</td>\n",
       "      <td>57.0</td>\n",
       "    </tr>\n",
       "    <tr>\n",
       "      <th>2022</th>\n",
       "      <td>ירושלים</td>\n",
       "      <td>3000</td>\n",
       "      <td>274</td>\n",
       "      <td>55.0</td>\n",
       "      <td>57.0</td>\n",
       "    </tr>\n",
       "  </tbody>\n",
       "</table>\n",
       "</div>"
      ],
      "text/plain": [
       "     hebrew_city_name  city_code  total_open_requests  total_requests  \\\n",
       "year                                                                    \n",
       "2005          ירושלים       3000                    0             0.0   \n",
       "2006          ירושלים       3000                    0             1.0   \n",
       "2007          ירושלים       3000                    1             0.0   \n",
       "2008          ירושלים       3000                    1             1.0   \n",
       "2009          ירושלים       3000                    2             2.0   \n",
       "2010          ירושלים       3000                    4             4.0   \n",
       "2011          ירושלים       3000                    8             6.0   \n",
       "2012          ירושלים       3000                   13             6.0   \n",
       "2013          ירושלים       3000                   12            13.0   \n",
       "2014          ירושלים       3000                   22            30.0   \n",
       "2015          ירושלים       3000                   46            52.0   \n",
       "2016          ירושלים       3000                   81            71.0   \n",
       "2017          ירושלים       3000                  131            67.0   \n",
       "2018          ירושלים       3000                  161            65.0   \n",
       "2019          ירושלים       3000                  190            92.0   \n",
       "2020          ירושלים       3000                  216            75.0   \n",
       "2021          ירושלים       3000                  244            87.0   \n",
       "2022          ירושלים       3000                  274            55.0   \n",
       "\n",
       "      total_approved_requests  \n",
       "year                           \n",
       "2005                      0.0  \n",
       "2006                      0.0  \n",
       "2007                      0.0  \n",
       "2008                      0.0  \n",
       "2009                      0.0  \n",
       "2010                      0.0  \n",
       "2011                      1.0  \n",
       "2012                      7.0  \n",
       "2013                      3.0  \n",
       "2014                      6.0  \n",
       "2015                     17.0  \n",
       "2016                     21.0  \n",
       "2017                     37.0  \n",
       "2018                     36.0  \n",
       "2019                     66.0  \n",
       "2020                     47.0  \n",
       "2021                     57.0  \n",
       "2022                     57.0  "
      ]
     },
     "execution_count": 1,
     "metadata": {},
     "output_type": "execute_result"
    }
   ],
   "source": [
    "import pandas as pd\n",
    "tama_df = pd.read_csv('engineered_tama_data.csv', index_col='year').sort_values(by=['city_code', 'year'])\n",
    "tama_df = tama_df[tama_df['hebrew_city_name'] == 'ירושלים']\n",
    "tama_df"
   ]
  },
  {
   "cell_type": "code",
   "execution_count": 2,
   "id": "7d1460e7",
   "metadata": {},
   "outputs": [
    {
     "data": {
      "text/plain": [
       "<Axes: xlabel='year'>"
      ]
     },
     "execution_count": 2,
     "metadata": {},
     "output_type": "execute_result"
    },
    {
     "data": {
      "image/png": "[encoded data removed]",
      "text/plain": [
       "<Figure size 640x480 with 1 Axes>"
      ]
     },
     "metadata": {},
     "output_type": "display_data"
    }
   ],
   "source": [
    "tama_df[['total_requests']].plot()"
   ]
  },
  {
   "cell_type": "code",
   "execution_count": 3,
   "id": "cd75538a",
   "metadata": {
    "pycharm": {
     "name": "#%%\n"
    }
   },
   "outputs": [],
   "source": [
    "# Split the data into training and testing sets\n",
    "train_data = tama_df.loc[:2018, 'total_requests']\n",
    "test_data = tama_df.loc[2019:, 'total_requests']"
   ]
  },
  {
   "cell_type": "code",
   "execution_count": 5,
   "id": "ba439a4d",
   "metadata": {
    "pycharm": {
     "name": "#%%\n"
    }
   },
   "outputs": [
    {
     "name": "stderr",
     "output_type": "stream",
     "text": [
      "2023-12-19 18:59:13.585728: I tensorflow/core/platform/cpu_feature_guard.cc:182] This TensorFlow binary is optimized to use available CPU instructions in performance-critical operations.\n",
      "To enable the following instructions: AVX2 AVX512F AVX512_VNNI FMA, in other operations, rebuild TensorFlow with the appropriate compiler flags.\n"
     ]
    }
   ],
   "source": [
    "from tensorflow.keras.preprocessing.sequence import TimeseriesGenerator\n",
    "\n",
    "# Define the parameters for the TimeseriesGenerator\n",
    "sequence_length = 3  # Length of the input sequences\n",
    "batch_size = 1 \n",
    "# Create the TimeseriesGenerator for training data\n",
    "train_generator = TimeseriesGenerator(train_data, train_data.values.reshape(-1, 1), length=sequence_length, batch_size=batch_size)\n",
    "# Create the TimeseriesGenerator for testing data\n",
    "test_generator = TimeseriesGenerator(test_data, test_data.values.reshape(-1, 1), length=sequence_length, batch_size=batch_size)"
   ]
  },
  {
   "cell_type": "code",
   "execution_count": 8,
   "id": "7b3fcd69",
   "metadata": {
    "pycharm": {
     "name": "#%%\n"
    }
   },
   "outputs": [
    {
     "name": "stdout",
     "output_type": "stream",
     "text": [
      "Epoch 1/200\n"
     ]
    },
    {
     "name": "stderr",
     "output_type": "stream",
     "text": [
      "/var/folders/9d/pylsgxd55jj55h_1svvmnmjm0000gn/T/ipykernel_87759/2023864376.py:14: UserWarning: `Model.fit_generator` is deprecated and will be removed in a future version. Please use `Model.fit`, which supports generators.\n",
      "  model_history = model.fit_generator(generator=train_generator,\n"
     ]
    },
    {
     "name": "stdout",
     "output_type": "stream",
     "text": [
      "11/11 [==============================] - 2s 34ms/step - loss: 1607.4766 - val_loss: 2631.1655\n",
      "Epoch 2/200\n",
      "11/11 [==============================] - 0s 6ms/step - loss: 1494.6887 - val_loss: 1898.0786\n",
      "Epoch 3/200\n",
      "11/11 [==============================] - 0s 6ms/step - loss: 1279.1056 - val_loss: 660.8409\n",
      "Epoch 4/200\n",
      "11/11 [==============================] - 0s 7ms/step - loss: 838.0695 - val_loss: 334.6930\n",
      "Epoch 5/200\n",
      "11/11 [==============================] - 0s 6ms/step - loss: 347.6418 - val_loss: 42716.5703\n",
      "Epoch 6/200\n",
      "11/11 [==============================] - 0s 7ms/step - loss: 3678.9404 - val_loss: 74581.0781\n",
      "Epoch 7/200\n",
      "11/11 [==============================] - 0s 7ms/step - loss: 1438.3668 - val_loss: 5127.4219\n",
      "Epoch 8/200\n",
      "11/11 [==============================] - 0s 7ms/step - loss: 376.5560 - val_loss: 764.5593\n",
      "Epoch 9/200\n",
      "11/11 [==============================] - 0s 6ms/step - loss: 450.3183 - val_loss: 703.3924\n",
      "Epoch 10/200\n",
      "11/11 [==============================] - 0s 6ms/step - loss: 386.3698 - val_loss: 2921.4424\n",
      "Epoch 11/200\n",
      "11/11 [==============================] - 0s 7ms/step - loss: 299.6528 - val_loss: 5487.7271\n",
      "Epoch 12/200\n",
      "11/11 [==============================] - 0s 7ms/step - loss: 355.4436 - val_loss: 12314.0635\n",
      "Epoch 13/200\n",
      "11/11 [==============================] - 0s 5ms/step - loss: 245.9914 - val_loss: 4301.0337\n",
      "Epoch 14/200\n",
      "11/11 [==============================] - 0s 6ms/step - loss: 160.4222 - val_loss: 3770.0474\n"
     ]
    },
    {
     "data": {
      "text/plain": [
       "<Axes: >"
      ]
     },
     "execution_count": 8,
     "metadata": {},
     "output_type": "execute_result"
    },
    {
     "data": {
      "image/png": "[encoded data removed]",
      "text/plain": [
       "<Figure size 640x480 with 1 Axes>"
      ]
     },
     "metadata": {},
     "output_type": "display_data"
    }
   ],
   "source": [
    "from tensorflow.keras.models import Sequential\n",
    "from tensorflow.keras.layers import LSTM, Dense\n",
    "from tensorflow.keras.callbacks import EarlyStopping\n",
    "\n",
    "model = Sequential()\n",
    "model.add(LSTM(units=50, return_sequences=True, input_shape=(sequence_length, 1), activation = 'relu'))\n",
    "model.add(LSTM(units=50, return_sequences=False, activation = 'relu'))\n",
    "\n",
    "model.add(Dense(1))\n",
    "model.compile(optimizer='adam', loss='mean_squared_error')\n",
    "\n",
    "\n",
    "model_early_stopping = EarlyStopping(monitor='val_loss',patience=10)\n",
    "model_history = model.fit_generator(generator=train_generator,\n",
    "                                        validation_data=test_generator,\n",
    "                                        epochs=200,\n",
    "                                        callbacks=[model_early_stopping])\n",
    "\n",
    "losses = pd.DataFrame(model.history.history)\n",
    "losses.plot()"
   ]
  },
  {
   "cell_type": "code",
   "execution_count": 25,
   "id": "72d90b32",
   "metadata": {
    "pycharm": {
     "name": "#%%\n"
    }
   },
   "outputs": [
    {
     "name": "stdout",
     "output_type": "stream",
     "text": [
      "11/11 [==============================] - 0s 2ms/step\n",
      "1/1 [==============================] - 0s 18ms/step\n",
      "1/1 [==============================] - 0s 18ms/step\n",
      "1/1 [==============================] - 0s 16ms/step\n",
      "1/1 [==============================] - 0s 28ms/step\n"
     ]
    }
   ],
   "source": [
    "tama_df['predict_total_requests'] = None\n",
    "tama_df.loc[2005 + sequence_length: 2018, 'predict_total_requests'] = model.predict(train_generator)\n",
    "tama_df.loc[2019, 'predict_total_requests'] = model.predict(tama_df.loc[2016: 2018, 'total_requests'].values.reshape(1, sequence_length))[0][0]\n",
    "tama_df.loc[2020, 'predict_total_requests'] = model.predict(tama_df.loc[2017: 2019, 'total_requests'].values.reshape(1, sequence_length))[0][0]\n",
    "tama_df.loc[2021, 'predict_total_requests'] = model.predict(tama_df.loc[2018: 2020, 'total_requests'].values.reshape(1, sequence_length))[0][0]\n",
    "tama_df.loc[2022, 'predict_total_requests'] = model.predict(test_generator)[0][0]"
   ]
  },
  {
   "cell_type": "code",
   "execution_count": 44,
   "id": "c282ef9c",
   "metadata": {},
   "outputs": [
    {
     "data": {
      "text/html": [
       "<div>\n",
       "<style scoped>\n",
       "    .dataframe tbody tr th:only-of-type {\n",
       "        vertical-align: middle;\n",
       "    }\n",
       "\n",
       "    .dataframe tbody tr th {\n",
       "        vertical-align: top;\n",
       "    }\n",
       "\n",
       "    .dataframe thead th {\n",
       "        text-align: right;\n",
       "    }\n",
       "</style>\n",
       "<table border=\"1\" class=\"dataframe\">\n",
       "  <thead>\n",
       "    <tr style=\"text-align: right;\">\n",
       "      <th></th>\n",
       "      <th>total_requests</th>\n",
       "      <th>predict_total_requests</th>\n",
       "    </tr>\n",
       "    <tr>\n",
       "      <th>year</th>\n",
       "      <th></th>\n",
       "      <th></th>\n",
       "    </tr>\n",
       "  </thead>\n",
       "  <tbody>\n",
       "    <tr>\n",
       "      <th>2005</th>\n",
       "      <td>0.0</td>\n",
       "      <td>0.000000</td>\n",
       "    </tr>\n",
       "    <tr>\n",
       "      <th>2006</th>\n",
       "      <td>1.0</td>\n",
       "      <td>1.000000</td>\n",
       "    </tr>\n",
       "    <tr>\n",
       "      <th>2007</th>\n",
       "      <td>0.0</td>\n",
       "      <td>0.000000</td>\n",
       "    </tr>\n",
       "    <tr>\n",
       "      <th>2008</th>\n",
       "      <td>1.0</td>\n",
       "      <td>0.961700</td>\n",
       "    </tr>\n",
       "    <tr>\n",
       "      <th>2009</th>\n",
       "      <td>2.0</td>\n",
       "      <td>1.400222</td>\n",
       "    </tr>\n",
       "    <tr>\n",
       "      <th>2010</th>\n",
       "      <td>4.0</td>\n",
       "      <td>1.242694</td>\n",
       "    </tr>\n",
       "    <tr>\n",
       "      <th>2011</th>\n",
       "      <td>6.0</td>\n",
       "      <td>3.258968</td>\n",
       "    </tr>\n",
       "    <tr>\n",
       "      <th>2012</th>\n",
       "      <td>6.0</td>\n",
       "      <td>8.011047</td>\n",
       "    </tr>\n",
       "    <tr>\n",
       "      <th>2013</th>\n",
       "      <td>13.0</td>\n",
       "      <td>16.921051</td>\n",
       "    </tr>\n",
       "    <tr>\n",
       "      <th>2014</th>\n",
       "      <td>30.0</td>\n",
       "      <td>24.801298</td>\n",
       "    </tr>\n",
       "    <tr>\n",
       "      <th>2015</th>\n",
       "      <td>52.0</td>\n",
       "      <td>29.255198</td>\n",
       "    </tr>\n",
       "    <tr>\n",
       "      <th>2016</th>\n",
       "      <td>71.0</td>\n",
       "      <td>45.366230</td>\n",
       "    </tr>\n",
       "    <tr>\n",
       "      <th>2017</th>\n",
       "      <td>67.0</td>\n",
       "      <td>59.462803</td>\n",
       "    </tr>\n",
       "    <tr>\n",
       "      <th>2018</th>\n",
       "      <td>65.0</td>\n",
       "      <td>76.963722</td>\n",
       "    </tr>\n",
       "    <tr>\n",
       "      <th>2019</th>\n",
       "      <td>92.0</td>\n",
       "      <td>97.511131</td>\n",
       "    </tr>\n",
       "    <tr>\n",
       "      <th>2020</th>\n",
       "      <td>75.0</td>\n",
       "      <td>89.421631</td>\n",
       "    </tr>\n",
       "    <tr>\n",
       "      <th>2021</th>\n",
       "      <td>87.0</td>\n",
       "      <td>84.783852</td>\n",
       "    </tr>\n",
       "    <tr>\n",
       "      <th>2022</th>\n",
       "      <td>55.0</td>\n",
       "      <td>116.400711</td>\n",
       "    </tr>\n",
       "  </tbody>\n",
       "</table>\n",
       "</div>"
      ],
      "text/plain": [
       "      total_requests  predict_total_requests\n",
       "year                                        \n",
       "2005             0.0                0.000000\n",
       "2006             1.0                1.000000\n",
       "2007             0.0                0.000000\n",
       "2008             1.0                0.961700\n",
       "2009             2.0                1.400222\n",
       "2010             4.0                1.242694\n",
       "2011             6.0                3.258968\n",
       "2012             6.0                8.011047\n",
       "2013            13.0               16.921051\n",
       "2014            30.0               24.801298\n",
       "2015            52.0               29.255198\n",
       "2016            71.0               45.366230\n",
       "2017            67.0               59.462803\n",
       "2018            65.0               76.963722\n",
       "2019            92.0               97.511131\n",
       "2020            75.0               89.421631\n",
       "2021            87.0               84.783852\n",
       "2022            55.0              116.400711"
      ]
     },
     "execution_count": 44,
     "metadata": {},
     "output_type": "execute_result"
    }
   ],
   "source": [
    "tama_df['predict_total_requests'] = tama_df['predict_total_requests'].fillna(tama_df['total_requests'])\n",
    "tama_df[['total_requests', 'predict_total_requests']]"
   ]
  },
  {
   "cell_type": "code",
   "execution_count": 45,
   "id": "25100b67",
   "metadata": {},
   "outputs": [
    {
     "data": {
      "text/plain": [
       "<Axes: xlabel='year'>"
      ]
     },
     "execution_count": 45,
     "metadata": {},
     "output_type": "execute_result"
    },
    {
     "data": {
      "image/png": "[encoded data removed]",
      "text/plain": [
       "<Figure size 640x480 with 1 Axes>"
      ]
     },
     "metadata": {},
     "output_type": "display_data"
    }
   ],
   "source": [
    "tama_df[['total_requests', 'predict_total_requests']].plot()"
   ]
  },
  {
   "cell_type": "code",
   "execution_count": 39,
   "id": "8a408c62",
   "metadata": {
    "pycharm": {
     "name": "#%%\n"
    }
   },
   "outputs": [
    {
     "data": {
      "text/plain": [
       "11.42675822841006"
      ]
     },
     "execution_count": 39,
     "metadata": {},
     "output_type": "execute_result"
    }
   ],
   "source": [
    "from sklearn.metrics import mean_squared_error\n",
    "import numpy as np\n",
    "np.sqrt(mean_squared_error(tama_df.loc[2008:2018, 'total_requests'], tama_df.loc[2008:2018, 'predict_total_requests']))"
   ]
  },
  {
   "cell_type": "code",
   "execution_count": 42,
   "id": "b4e17072",
   "metadata": {
    "pycharm": {
     "name": "#%%\n"
    }
   },
   "outputs": [
    {
     "data": {
      "text/plain": [
       "31.675363600714196"
      ]
     },
     "execution_count": 42,
     "metadata": {},
     "output_type": "execute_result"
    }
   ],
   "source": [
    "np.sqrt(mean_squared_error(tama_df.loc[2019:, 'total_requests'], tama_df.loc[2019:, 'predict_total_requests']))"
   ]
  },
  {
   "cell_type": "code",
   "execution_count": null,
   "id": "a845be57",
   "metadata": {},
   "outputs": [],
   "source": []
  }
 ],
 "metadata": {
  "kernelspec": {
   "display_name": "Python 3 (ipykernel)",
   "language": "python",
   "name": "python3"
  },
  "language_info": {
   "codemirror_mode": {
    "name": "ipython",
    "version": 3
   },
   "file_extension": ".py",
   "mimetype": "text/x-python",
   "name": "python",
   "nbconvert_exporter": "python",
   "pygments_lexer": "ipython3",
   "version": "3.10.9"
  }
 },
 "nbformat": 4,
 "nbformat_minor": 5
}
