{
 "cells": [
  {
   "cell_type": "code",
   "execution_count": 1,
   "id": "6e49b2d8",
   "metadata": {
    "pycharm": {
     "name": "#%%\n"
    }
   },
   "outputs": [],
   "source": [
    "import pandas as pd\n",
    "import joblib\n",
    "import os"
   ]
  },
  {
   "cell_type": "code",
   "execution_count": 2,
   "id": "669a97ff",
   "metadata": {
    "pycharm": {
     "name": "#%%\n"
    }
   },
   "outputs": [
    {
     "data": {
      "text/plain": [
       "'/Users/sararozin/Documents/tama_project/Tama/predict_next_years_approved_requests_distribution/predict_next_years_new_requests_distribution/models/sir/predict_total_requests_api.ipynb'"
      ]
     },
     "execution_count": 2,
     "metadata": {},
     "output_type": "execute_result"
    }
   ],
   "source": [
    "file_path = os.path.dirname((os.path.dirname(os.getcwd()))) + '/predict_next_years_new_requests_distribution/models/sir/predict_total_requests_api.ipynb'\n",
    "file_path"
   ]
  },
  {
   "cell_type": "code",
   "execution_count": 3,
   "id": "3ea53586",
   "metadata": {
    "pycharm": {
     "name": "#%%\n"
    }
   },
   "outputs": [],
   "source": [
    "%run $file_path"
   ]
  },
  {
   "cell_type": "code",
   "execution_count": 4,
   "id": "3eccbeaa",
   "metadata": {
    "pycharm": {
     "name": "#%%\n"
    }
   },
   "outputs": [
    {
     "data": {
      "text/html": [
       "<div>\n",
       "<style scoped>\n",
       "    .dataframe tbody tr th:only-of-type {\n",
       "        vertical-align: middle;\n",
       "    }\n",
       "\n",
       "    .dataframe tbody tr th {\n",
       "        vertical-align: top;\n",
       "    }\n",
       "\n",
       "    .dataframe thead th {\n",
       "        text-align: right;\n",
       "    }\n",
       "</style>\n",
       "<table border=\"1\" class=\"dataframe\">\n",
       "  <thead>\n",
       "    <tr style=\"text-align: right;\">\n",
       "      <th></th>\n",
       "      <th>hebrew_city_name</th>\n",
       "      <th>city_code</th>\n",
       "      <th>year</th>\n",
       "      <th>total_open_requests</th>\n",
       "      <th>total_requests</th>\n",
       "      <th>total_approved_requests</th>\n",
       "      <th>longitude</th>\n",
       "      <th>latitude</th>\n",
       "    </tr>\n",
       "  </thead>\n",
       "  <tbody>\n",
       "    <tr>\n",
       "      <th>0</th>\n",
       "      <td>אור יהודה</td>\n",
       "      <td>2400</td>\n",
       "      <td>2005</td>\n",
       "      <td>0</td>\n",
       "      <td>0.0</td>\n",
       "      <td>0.0</td>\n",
       "      <td>34.852394</td>\n",
       "      <td>32.030971</td>\n",
       "    </tr>\n",
       "    <tr>\n",
       "      <th>1</th>\n",
       "      <td>אור יהודה</td>\n",
       "      <td>2400</td>\n",
       "      <td>2006</td>\n",
       "      <td>0</td>\n",
       "      <td>0.0</td>\n",
       "      <td>0.0</td>\n",
       "      <td>34.852394</td>\n",
       "      <td>32.030971</td>\n",
       "    </tr>\n",
       "    <tr>\n",
       "      <th>2</th>\n",
       "      <td>אור יהודה</td>\n",
       "      <td>2400</td>\n",
       "      <td>2007</td>\n",
       "      <td>0</td>\n",
       "      <td>0.0</td>\n",
       "      <td>0.0</td>\n",
       "      <td>34.852394</td>\n",
       "      <td>32.030971</td>\n",
       "    </tr>\n",
       "    <tr>\n",
       "      <th>3</th>\n",
       "      <td>אור יהודה</td>\n",
       "      <td>2400</td>\n",
       "      <td>2008</td>\n",
       "      <td>0</td>\n",
       "      <td>1.0</td>\n",
       "      <td>0.0</td>\n",
       "      <td>34.852394</td>\n",
       "      <td>32.030971</td>\n",
       "    </tr>\n",
       "    <tr>\n",
       "      <th>4</th>\n",
       "      <td>אור יהודה</td>\n",
       "      <td>2400</td>\n",
       "      <td>2009</td>\n",
       "      <td>1</td>\n",
       "      <td>0.0</td>\n",
       "      <td>0.0</td>\n",
       "      <td>34.852394</td>\n",
       "      <td>32.030971</td>\n",
       "    </tr>\n",
       "    <tr>\n",
       "      <th>...</th>\n",
       "      <td>...</td>\n",
       "      <td>...</td>\n",
       "      <td>...</td>\n",
       "      <td>...</td>\n",
       "      <td>...</td>\n",
       "      <td>...</td>\n",
       "      <td>...</td>\n",
       "      <td>...</td>\n",
       "    </tr>\n",
       "    <tr>\n",
       "      <th>1075</th>\n",
       "      <td>תל אביב יפו</td>\n",
       "      <td>5000</td>\n",
       "      <td>2018</td>\n",
       "      <td>687</td>\n",
       "      <td>164.0</td>\n",
       "      <td>83.0</td>\n",
       "      <td>34.781806</td>\n",
       "      <td>32.085300</td>\n",
       "    </tr>\n",
       "    <tr>\n",
       "      <th>1076</th>\n",
       "      <td>תל אביב יפו</td>\n",
       "      <td>5000</td>\n",
       "      <td>2019</td>\n",
       "      <td>768</td>\n",
       "      <td>116.0</td>\n",
       "      <td>149.0</td>\n",
       "      <td>34.781806</td>\n",
       "      <td>32.085300</td>\n",
       "    </tr>\n",
       "    <tr>\n",
       "      <th>1077</th>\n",
       "      <td>תל אביב יפו</td>\n",
       "      <td>5000</td>\n",
       "      <td>2020</td>\n",
       "      <td>735</td>\n",
       "      <td>238.0</td>\n",
       "      <td>115.0</td>\n",
       "      <td>34.781806</td>\n",
       "      <td>32.085300</td>\n",
       "    </tr>\n",
       "    <tr>\n",
       "      <th>1078</th>\n",
       "      <td>תל אביב יפו</td>\n",
       "      <td>5000</td>\n",
       "      <td>2021</td>\n",
       "      <td>858</td>\n",
       "      <td>240.0</td>\n",
       "      <td>124.0</td>\n",
       "      <td>34.781806</td>\n",
       "      <td>32.085300</td>\n",
       "    </tr>\n",
       "    <tr>\n",
       "      <th>1079</th>\n",
       "      <td>תל אביב יפו</td>\n",
       "      <td>5000</td>\n",
       "      <td>2022</td>\n",
       "      <td>974</td>\n",
       "      <td>209.0</td>\n",
       "      <td>133.0</td>\n",
       "      <td>34.781806</td>\n",
       "      <td>32.085300</td>\n",
       "    </tr>\n",
       "  </tbody>\n",
       "</table>\n",
       "<p>1080 rows × 8 columns</p>\n",
       "</div>"
      ],
      "text/plain": [
       "     hebrew_city_name  city_code  year  total_open_requests  total_requests  \\\n",
       "0           אור יהודה       2400  2005                    0             0.0   \n",
       "1           אור יהודה       2400  2006                    0             0.0   \n",
       "2           אור יהודה       2400  2007                    0             0.0   \n",
       "3           אור יהודה       2400  2008                    0             1.0   \n",
       "4           אור יהודה       2400  2009                    1             0.0   \n",
       "...               ...        ...   ...                  ...             ...   \n",
       "1075      תל אביב יפו       5000  2018                  687           164.0   \n",
       "1076      תל אביב יפו       5000  2019                  768           116.0   \n",
       "1077      תל אביב יפו       5000  2020                  735           238.0   \n",
       "1078      תל אביב יפו       5000  2021                  858           240.0   \n",
       "1079      תל אביב יפו       5000  2022                  974           209.0   \n",
       "\n",
       "      total_approved_requests  longitude   latitude  \n",
       "0                         0.0  34.852394  32.030971  \n",
       "1                         0.0  34.852394  32.030971  \n",
       "2                         0.0  34.852394  32.030971  \n",
       "3                         0.0  34.852394  32.030971  \n",
       "4                         0.0  34.852394  32.030971  \n",
       "...                       ...        ...        ...  \n",
       "1075                     83.0  34.781806  32.085300  \n",
       "1076                    149.0  34.781806  32.085300  \n",
       "1077                    115.0  34.781806  32.085300  \n",
       "1078                    124.0  34.781806  32.085300  \n",
       "1079                    133.0  34.781806  32.085300  \n",
       "\n",
       "[1080 rows x 8 columns]"
      ]
     },
     "execution_count": 4,
     "metadata": {},
     "output_type": "execute_result"
    }
   ],
   "source": [
    "tama_df = pd.read_csv('engineered_tama_data.csv')\n",
    "tama_df"
   ]
  },
  {
   "cell_type": "code",
   "execution_count": 5,
   "id": "279d478a",
   "metadata": {
    "pycharm": {
     "name": "#%%\n"
    }
   },
   "outputs": [],
   "source": [
    "from datetime import datetime\n",
    "\n",
    "def guess_total_open_requests_futured_year(city, futured_year):\n",
    "    current_year = datetime.now().year\n",
    "    max_year = 2022\n",
    "    current_year = max_year\n",
    "    print('current_year', current_year)\n",
    "    rf_regressor = joblib.load('random_forest_model.pkl')\n",
    "    tama_df = pd.read_csv('engineered_tama_data.csv')\n",
    "    total_open_requests = tama_df[(tama_df['city_code'] == city) & (tama_df['year'] == min(current_year, futured_year))]['total_open_requests']\n",
    "    if total_open_requests.empty:\n",
    "        total_open_requests = 0\n",
    "    else:\n",
    "        total_open_requests = total_open_requests.iloc[0]\n",
    "    if futured_year > current_year:\n",
    "        for year in range(current_year, futured_year):\n",
    "            print('--------------', year, '-----------------')\n",
    "            print('total_open_requests: ', total_open_requests)\n",
    "            predict_total_approved_requests = rf_regressor.predict([[city, year, total_open_requests]])[0]\n",
    "            print('predict_total_approved_requests:', predict_total_approved_requests)\n",
    "            predict_total_new_requests = predict_total_requests(city, year)\n",
    "            print('predict_total_new_requests:', predict_total_new_requests)\n",
    "            total_open_requests = total_open_requests - predict_total_approved_requests + predict_total_new_requests\n",
    "    return total_open_requests"
   ]
  },
  {
   "cell_type": "code",
   "execution_count": 8,
   "id": "6552fe28",
   "metadata": {
    "pycharm": {
     "name": "#%%\n"
    }
   },
   "outputs": [],
   "source": [
    "def predict_total_approved_requests(city, futured_year):\n",
    "    guess_total_open_requests = guess_total_open_requests_futured_year(city, futured_year)\n",
    "    rf_regressor = joblib.load('random_forest_model.pkl')\n",
    "    total_approved_requests = rf_regressor.predict([[city, futured_year, guess_total_open_requests]])[0]\n",
    "    if total_approved_requests > guess_total_open_requests:\n",
    "        return guess_total_open_requests\n",
    "    return total_approved_requests"
   ]
  },
  {
   "cell_type": "markdown",
   "id": "92c169b5",
   "metadata": {
    "pycharm": {
     "name": "#%% md\n"
    }
   },
   "source": [
    "### example code"
   ]
  },
  {
   "cell_type": "code",
   "execution_count": 9,
   "id": "a5c5bec1",
   "metadata": {
    "pycharm": {
     "name": "#%%\n"
    }
   },
   "outputs": [
    {
     "name": "stdout",
     "output_type": "stream",
     "text": [
      "current_year 2022\n",
      "-------------- 2022 -----------------\n",
      "total_open_requests:  274\n",
      "predict_total_approved_requests: 53.7\n",
      "predict_total_new_requests: 58.6142207277618\n",
      "-------------- 2023 -----------------\n",
      "total_open_requests:  278.9142207277618\n",
      "predict_total_approved_requests: 53.7\n",
      "predict_total_new_requests: 46.54935433078496\n",
      "-------------- 2024 -----------------\n",
      "total_open_requests:  271.7635750585468\n",
      "predict_total_approved_requests: 52.8\n",
      "predict_total_new_requests: 35.46014509412466\n",
      "-------------- 2025 -----------------\n",
      "total_open_requests:  254.42372015267145\n",
      "predict_total_approved_requests: 52.8\n",
      "predict_total_new_requests: 26.178586070227887\n",
      "-------------- 2026 -----------------\n",
      "total_open_requests:  227.80230622289935\n",
      "predict_total_approved_requests: 47.7\n",
      "predict_total_new_requests: 18.887721225510404\n"
     ]
    },
    {
     "name": "stderr",
     "output_type": "stream",
     "text": [
      "/usr/local/Cellar/jupyterlab/3.4.8/libexec/lib/python3.10/site-packages/sklearn/base.py:439: UserWarning: X does not have valid feature names, but RandomForestRegressor was fitted with feature names\n",
      "  warnings.warn(\n",
      "/usr/local/Cellar/jupyterlab/3.4.8/libexec/lib/python3.10/site-packages/sklearn/base.py:439: UserWarning: X does not have valid feature names, but RandomForestRegressor was fitted with feature names\n",
      "  warnings.warn(\n",
      "/usr/local/Cellar/jupyterlab/3.4.8/libexec/lib/python3.10/site-packages/sklearn/base.py:439: UserWarning: X does not have valid feature names, but RandomForestRegressor was fitted with feature names\n",
      "  warnings.warn(\n",
      "/usr/local/Cellar/jupyterlab/3.4.8/libexec/lib/python3.10/site-packages/sklearn/base.py:439: UserWarning: X does not have valid feature names, but RandomForestRegressor was fitted with feature names\n",
      "  warnings.warn(\n",
      "/usr/local/Cellar/jupyterlab/3.4.8/libexec/lib/python3.10/site-packages/sklearn/base.py:439: UserWarning: X does not have valid feature names, but RandomForestRegressor was fitted with feature names\n",
      "  warnings.warn(\n",
      "/usr/local/Cellar/jupyterlab/3.4.8/libexec/lib/python3.10/site-packages/sklearn/base.py:439: UserWarning: X does not have valid feature names, but RandomForestRegressor was fitted with feature names\n",
      "  warnings.warn(\n"
     ]
    },
    {
     "data": {
      "text/plain": [
       "47.7"
      ]
     },
     "execution_count": 9,
     "metadata": {},
     "output_type": "execute_result"
    }
   ],
   "source": [
    "predict_total_approved_requests(3000, 2027)"
   ]
  },
  {
   "cell_type": "code",
   "execution_count": null,
   "id": "a899ed49",
   "metadata": {
    "pycharm": {
     "name": "#%%\n"
    }
   },
   "outputs": [],
   "source": []
  }
 ],
 "metadata": {
  "kernelspec": {
   "display_name": "Python 3 (ipykernel)",
   "language": "python",
   "name": "python3"
  },
  "language_info": {
   "codemirror_mode": {
    "name": "ipython",
    "version": 3
   },
   "file_extension": ".py",
   "mimetype": "text/x-python",
   "name": "python",
   "nbconvert_exporter": "python",
   "pygments_lexer": "ipython3",
   "version": "3.10.9"
  }
 },
 "nbformat": 4,
 "nbformat_minor": 5
}