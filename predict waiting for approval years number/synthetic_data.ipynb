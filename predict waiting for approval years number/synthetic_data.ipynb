{
 "cells": [
  {
   "cell_type": "markdown",
   "id": "446cc445",
   "metadata": {
    "pycharm": {
     "name": "#%% md\n"
    }
   },
   "source": [
    "### import libraries"
   ]
  },
  {
   "cell_type": "code",
   "execution_count": 1,
   "id": "c49638eb",
   "metadata": {
    "pycharm": {
     "name": "#%%\n"
    }
   },
   "outputs": [
    {
     "name": "stderr",
     "output_type": "stream",
     "text": [
      "/usr/local/Cellar/jupyterlab/3.4.8/libexec/lib/python3.10/site-packages/tqdm/auto.py:21: TqdmWarning: IProgress not found. Please update jupyter and ipywidgets. See https://ipywidgets.readthedocs.io/en/stable/user_install.html\n",
      "  from .autonotebook import tqdm as notebook_tqdm\n"
     ]
    }
   ],
   "source": [
    "import pandas as pd\n",
    "from sdv.single_table import CTGANSynthesizer\n",
    "from ctgan import CTGAN"
   ]
  },
  {
   "cell_type": "markdown",
   "id": "9d44e145",
   "metadata": {
    "pycharm": {
     "name": "#%% md\n"
    }
   },
   "source": [
    "### prepare data"
   ]
  },
  {
   "cell_type": "code",
   "execution_count": 5,
   "id": "d959cfc8",
   "metadata": {
    "pycharm": {
     "name": "#%%\n"
    }
   },
   "outputs": [],
   "source": [
    "tama_df = pd.read_csv('geocode_tama_address_data.csv')\n",
    "tama_df['years_to_be_approved'] = tama_df['ShnatHryter'] - tama_df['ShnatBakasha']"
   ]
  },
  {
   "cell_type": "markdown",
   "id": "61d959c1",
   "metadata": {
    "pycharm": {
     "name": "#%% md\n"
    }
   },
   "source": [
    "### choose features"
   ]
  },
  {
   "cell_type": "code",
   "execution_count": 7,
   "id": "2cc8f75c",
   "metadata": {
    "pycharm": {
     "name": "#%%\n"
    }
   },
   "outputs": [
    {
     "data": {
      "text/html": [
       "<div>\n",
       "<style scoped>\n",
       "    .dataframe tbody tr th:only-of-type {\n",
       "        vertical-align: middle;\n",
       "    }\n",
       "\n",
       "    .dataframe tbody tr th {\n",
       "        vertical-align: top;\n",
       "    }\n",
       "\n",
       "    .dataframe thead th {\n",
       "        text-align: right;\n",
       "    }\n",
       "</style>\n",
       "<table border=\"1\" class=\"dataframe\">\n",
       "  <thead>\n",
       "    <tr style=\"text-align: right;\">\n",
       "      <th></th>\n",
       "      <th>ShnatBakasha</th>\n",
       "      <th>latitude</th>\n",
       "      <th>longitude</th>\n",
       "      <th>years_to_be_approved</th>\n",
       "    </tr>\n",
       "  </thead>\n",
       "  <tbody>\n",
       "    <tr>\n",
       "      <th>0</th>\n",
       "      <td>2013.0</td>\n",
       "      <td>31.852940</td>\n",
       "      <td>34.845640</td>\n",
       "      <td>2.0</td>\n",
       "    </tr>\n",
       "    <tr>\n",
       "      <th>1</th>\n",
       "      <td>2014.0</td>\n",
       "      <td>31.854477</td>\n",
       "      <td>34.845127</td>\n",
       "      <td>7.0</td>\n",
       "    </tr>\n",
       "    <tr>\n",
       "      <th>10</th>\n",
       "      <td>2006.0</td>\n",
       "      <td>31.796681</td>\n",
       "      <td>34.657435</td>\n",
       "      <td>1.0</td>\n",
       "    </tr>\n",
       "    <tr>\n",
       "      <th>11</th>\n",
       "      <td>2008.0</td>\n",
       "      <td>31.812108</td>\n",
       "      <td>34.646415</td>\n",
       "      <td>1.0</td>\n",
       "    </tr>\n",
       "    <tr>\n",
       "      <th>12</th>\n",
       "      <td>2010.0</td>\n",
       "      <td>31.811985</td>\n",
       "      <td>34.647032</td>\n",
       "      <td>0.0</td>\n",
       "    </tr>\n",
       "    <tr>\n",
       "      <th>...</th>\n",
       "      <td>...</td>\n",
       "      <td>...</td>\n",
       "      <td>...</td>\n",
       "      <td>...</td>\n",
       "    </tr>\n",
       "    <tr>\n",
       "      <th>10501</th>\n",
       "      <td>2018.0</td>\n",
       "      <td>32.160547</td>\n",
       "      <td>34.911997</td>\n",
       "      <td>2.0</td>\n",
       "    </tr>\n",
       "    <tr>\n",
       "      <th>10502</th>\n",
       "      <td>2015.0</td>\n",
       "      <td>32.158662</td>\n",
       "      <td>34.890109</td>\n",
       "      <td>5.0</td>\n",
       "    </tr>\n",
       "    <tr>\n",
       "      <th>10503</th>\n",
       "      <td>2017.0</td>\n",
       "      <td>32.153654</td>\n",
       "      <td>34.890050</td>\n",
       "      <td>3.0</td>\n",
       "    </tr>\n",
       "    <tr>\n",
       "      <th>10504</th>\n",
       "      <td>2014.0</td>\n",
       "      <td>32.153311</td>\n",
       "      <td>34.890399</td>\n",
       "      <td>8.0</td>\n",
       "    </tr>\n",
       "    <tr>\n",
       "      <th>10505</th>\n",
       "      <td>2021.0</td>\n",
       "      <td>32.157990</td>\n",
       "      <td>34.902371</td>\n",
       "      <td>1.0</td>\n",
       "    </tr>\n",
       "  </tbody>\n",
       "</table>\n",
       "<p>4984 rows × 4 columns</p>\n",
       "</div>"
      ],
      "text/plain": [
       "       ShnatBakasha   latitude  longitude  years_to_be_approved\n",
       "0            2013.0  31.852940  34.845640                   2.0\n",
       "1            2014.0  31.854477  34.845127                   7.0\n",
       "10           2006.0  31.796681  34.657435                   1.0\n",
       "11           2008.0  31.812108  34.646415                   1.0\n",
       "12           2010.0  31.811985  34.647032                   0.0\n",
       "...             ...        ...        ...                   ...\n",
       "10501        2018.0  32.160547  34.911997                   2.0\n",
       "10502        2015.0  32.158662  34.890109                   5.0\n",
       "10503        2017.0  32.153654  34.890050                   3.0\n",
       "10504        2014.0  32.153311  34.890399                   8.0\n",
       "10505        2021.0  32.157990  34.902371                   1.0\n",
       "\n",
       "[4984 rows x 4 columns]"
      ]
     },
     "execution_count": 7,
     "metadata": {},
     "output_type": "execute_result"
    }
   ],
   "source": [
    "# consider to change the chosen_features list\n",
    "chosen_features = ['ShnatBakasha', 'latitude', 'longitude', 'years_to_be_approved']\n",
    "tama_df = tama_df[chosen_features]\n",
    "tama_df = tama_df.dropna(how='any')"
   ]
  },
  {
   "cell_type": "markdown",
   "id": "95119f2b",
   "metadata": {
    "pycharm": {
     "name": "#%% md\n"
    }
   },
   "source": [
    "### create the synthetic data"
   ]
  },
  {
   "cell_type": "code",
   "execution_count": 11,
   "id": "fe20c25c",
   "metadata": {
    "pycharm": {
     "name": "#%%\n"
    }
   },
   "outputs": [
    {
     "data": {
      "text/plain": [
       "(49840, 4)"
      ]
     },
     "execution_count": 11,
     "metadata": {},
     "output_type": "execute_result"
    }
   ],
   "source": [
    "# Initialize synthesizer\n",
    "synthesizer = CTGAN()\n",
    "# Fit synthesizer to data\n",
    "synthesizer.fit(tama_df)\n",
    "# Generate synthetic data\n",
    "size_synthetic_data = len(tama_df) * 10 # consider to change the size\n",
    "synthetic_data = synthesizer.sample(size_synthetic_data)\n",
    "synthetic_data['years_to_be_approved'] = synthetic_data['years_to_be_approved'].round(0)\n",
    "synthetic_data.shape"
   ]
  },
  {
   "cell_type": "markdown",
   "id": "ba6dfc05",
   "metadata": {
    "pycharm": {
     "name": "#%% md\n"
    }
   },
   "source": [
    "### Save synthetic data to file"
   ]
  },
  {
   "cell_type": "code",
   "execution_count": 14,
   "id": "54ef16b2",
   "metadata": {
    "pycharm": {
     "name": "#%%\n"
    }
   },
   "outputs": [],
   "source": [
    "synthetic_data.to_csv('tama_synthetic_data.csv', index=False)"
   ]
  },
  {
   "cell_type": "markdown",
   "id": "f27796e2",
   "metadata": {
    "pycharm": {
     "name": "#%% md\n"
    }
   },
   "source": [
    "### mix real data with the fake data"
   ]
  },
  {
   "cell_type": "code",
   "execution_count": 15,
   "id": "baa4e76d",
   "metadata": {
    "pycharm": {
     "name": "#%%\n"
    }
   },
   "outputs": [],
   "source": [
    "synthetic_data['is_real'] = False\n",
    "tama_df['is_real'] = True\n",
    "mix_tama_df = pd.concat([synthetic_data, tama_df])"
   ]
  },
  {
   "cell_type": "markdown",
   "id": "7726eb44",
   "metadata": {
    "pycharm": {
     "name": "#%% md\n"
    }
   },
   "source": [
    "### Save mix data to file"
   ]
  },
  {
   "cell_type": "code",
   "execution_count": 16,
   "id": "01e63e2f",
   "metadata": {
    "pycharm": {
     "name": "#%%\n"
    }
   },
   "outputs": [],
   "source": [
    "mix_tama_df.to_csv('mix_tama_data.csv', index=False)"
   ]
  }
 ],
 "metadata": {
  "kernelspec": {
   "display_name": "Python 3 (ipykernel)",
   "language": "python",
   "name": "python3"
  },
  "language_info": {
   "codemirror_mode": {
    "name": "ipython",
    "version": 3
   },
   "file_extension": ".py",
   "mimetype": "text/x-python",
   "name": "python",
   "nbconvert_exporter": "python",
   "pygments_lexer": "ipython3",
   "version": "3.10.9"
  }
 },
 "nbformat": 4,
 "nbformat_minor": 5
}
