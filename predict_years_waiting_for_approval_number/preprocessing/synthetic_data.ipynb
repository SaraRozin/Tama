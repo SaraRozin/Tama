{
 "cells": [
  {
   "cell_type": "markdown",
   "id": "446cc445",
   "metadata": {
    "pycharm": {
     "name": "#%% md\n"
    }
   },
   "source": [
    "### import libraries"
   ]
  },
  {
   "cell_type": "code",
   "execution_count": 3,
   "id": "c49638eb",
   "metadata": {
    "pycharm": {
     "name": "#%%\n"
    }
   },
   "outputs": [],
   "source": [
    "import pandas as pd\n",
    "from sdv.single_table import CTGANSynthesizer\n",
    "from ctgan import CTGAN"
   ]
  },
  {
   "cell_type": "markdown",
   "id": "9d44e145",
   "metadata": {
    "pycharm": {
     "name": "#%% md\n"
    }
   },
   "source": [
    "### prepare data"
   ]
  },
  {
   "cell_type": "code",
   "execution_count": 5,
   "id": "27272e8c",
   "metadata": {
    "pycharm": {
     "name": "#%%\n"
    }
   },
   "outputs": [
    {
     "data": {
      "text/html": [
       "<div>\n",
       "<style scoped>\n",
       "    .dataframe tbody tr th:only-of-type {\n",
       "        vertical-align: middle;\n",
       "    }\n",
       "\n",
       "    .dataframe tbody tr th {\n",
       "        vertical-align: top;\n",
       "    }\n",
       "\n",
       "    .dataframe thead th {\n",
       "        text-align: right;\n",
       "    }\n",
       "</style>\n",
       "<table border=\"1\" class=\"dataframe\">\n",
       "  <thead>\n",
       "    <tr style=\"text-align: right;\">\n",
       "      <th></th>\n",
       "      <th>Unnamed: 0</th>\n",
       "      <th>MezheYeshut</th>\n",
       "      <th>GISId</th>\n",
       "      <th>MisparYeshut</th>\n",
       "      <th>MisparYeshutAv</th>\n",
       "      <th>AchuzHachtamot</th>\n",
       "      <th>AchuzHachtamotMitcham</th>\n",
       "      <th>Bayt</th>\n",
       "      <th>GushChelka</th>\n",
       "      <th>KamutDirot</th>\n",
       "      <th>...</th>\n",
       "      <th>Yeshut</th>\n",
       "      <th>Yeshuv</th>\n",
       "      <th>BakashaLeHeter</th>\n",
       "      <th>Heter1</th>\n",
       "      <th>Ichlus1</th>\n",
       "      <th>address</th>\n",
       "      <th>coordinates</th>\n",
       "      <th>latitude</th>\n",
       "      <th>longitude</th>\n",
       "      <th>years_to_be_approved</th>\n",
       "    </tr>\n",
       "  </thead>\n",
       "  <tbody>\n",
       "    <tr>\n",
       "      <th>0</th>\n",
       "      <td>0</td>\n",
       "      <td>16-640988</td>\n",
       "      <td>640988</td>\n",
       "      <td>16000146</td>\n",
       "      <td>NaN</td>\n",
       "      <td>NaN</td>\n",
       "      <td>NaN</td>\n",
       "      <td>1</td>\n",
       "      <td>NaN</td>\n",
       "      <td>NaN</td>\n",
       "      <td>...</td>\n",
       "      <td>תמ\"א</td>\n",
       "      <td>מזכרת בתיה</td>\n",
       "      <td>2013-08-28</td>\n",
       "      <td>2015-11-17</td>\n",
       "      <td>2020-03-24</td>\n",
       "      <td>אלון יגאל 1, מזכרת בתיה</td>\n",
       "      <td>(31.8529404, 34.8456398)</td>\n",
       "      <td>31.852940</td>\n",
       "      <td>34.845640</td>\n",
       "      <td>2.0</td>\n",
       "    </tr>\n",
       "    <tr>\n",
       "      <th>1</th>\n",
       "      <td>1</td>\n",
       "      <td>16-640984</td>\n",
       "      <td>640984</td>\n",
       "      <td>16002161</td>\n",
       "      <td>NaN</td>\n",
       "      <td>NaN</td>\n",
       "      <td>NaN</td>\n",
       "      <td>23</td>\n",
       "      <td>NaN</td>\n",
       "      <td>NaN</td>\n",
       "      <td>...</td>\n",
       "      <td>תמ\"א</td>\n",
       "      <td>מזכרת בתיה</td>\n",
       "      <td>2014-03-24</td>\n",
       "      <td>2021-10-24</td>\n",
       "      <td>NaN</td>\n",
       "      <td>שד אליהו 23, מזכרת בתיה</td>\n",
       "      <td>(31.854477, 34.8451273)</td>\n",
       "      <td>31.854477</td>\n",
       "      <td>34.845127</td>\n",
       "      <td>7.0</td>\n",
       "    </tr>\n",
       "    <tr>\n",
       "      <th>2</th>\n",
       "      <td>2</td>\n",
       "      <td>16-640985</td>\n",
       "      <td>640985</td>\n",
       "      <td>16000145</td>\n",
       "      <td>NaN</td>\n",
       "      <td>NaN</td>\n",
       "      <td>0.0</td>\n",
       "      <td>32</td>\n",
       "      <td>NaN</td>\n",
       "      <td>NaN</td>\n",
       "      <td>...</td>\n",
       "      <td>תמ\"א</td>\n",
       "      <td>מזכרת בתיה</td>\n",
       "      <td>2016-11-14</td>\n",
       "      <td>NaN</td>\n",
       "      <td>NaN</td>\n",
       "      <td>שד אליהו 32, מזכרת בתיה</td>\n",
       "      <td>(31.854044, 34.8453213)</td>\n",
       "      <td>31.854044</td>\n",
       "      <td>34.845321</td>\n",
       "      <td>NaN</td>\n",
       "    </tr>\n",
       "    <tr>\n",
       "      <th>3</th>\n",
       "      <td>3</td>\n",
       "      <td>16-640989</td>\n",
       "      <td>640989</td>\n",
       "      <td>16000147</td>\n",
       "      <td>NaN</td>\n",
       "      <td>NaN</td>\n",
       "      <td>NaN</td>\n",
       "      <td>5</td>\n",
       "      <td>NaN</td>\n",
       "      <td>NaN</td>\n",
       "      <td>...</td>\n",
       "      <td>תמ\"א</td>\n",
       "      <td>מזכרת בתיה</td>\n",
       "      <td>2017-06-06</td>\n",
       "      <td>NaN</td>\n",
       "      <td>NaN</td>\n",
       "      <td>אלון יגאל 5, מזכרת בתיה</td>\n",
       "      <td>(31.8528759, 34.84637980000001)</td>\n",
       "      <td>31.852876</td>\n",
       "      <td>34.846380</td>\n",
       "      <td>NaN</td>\n",
       "    </tr>\n",
       "    <tr>\n",
       "      <th>4</th>\n",
       "      <td>4</td>\n",
       "      <td>16-649233</td>\n",
       "      <td>649233</td>\n",
       "      <td>16001567</td>\n",
       "      <td>NaN</td>\n",
       "      <td>NaN</td>\n",
       "      <td>NaN</td>\n",
       "      <td>28</td>\n",
       "      <td>NaN</td>\n",
       "      <td>NaN</td>\n",
       "      <td>...</td>\n",
       "      <td>תמ\"א</td>\n",
       "      <td>מזכרת בתיה</td>\n",
       "      <td>2019-09-16</td>\n",
       "      <td>NaN</td>\n",
       "      <td>NaN</td>\n",
       "      <td>שד אליהו 28, מזכרת בתיה</td>\n",
       "      <td>(31.8541366, 34.8447116)</td>\n",
       "      <td>31.854137</td>\n",
       "      <td>34.844712</td>\n",
       "      <td>NaN</td>\n",
       "    </tr>\n",
       "    <tr>\n",
       "      <th>...</th>\n",
       "      <td>...</td>\n",
       "      <td>...</td>\n",
       "      <td>...</td>\n",
       "      <td>...</td>\n",
       "      <td>...</td>\n",
       "      <td>...</td>\n",
       "      <td>...</td>\n",
       "      <td>...</td>\n",
       "      <td>...</td>\n",
       "      <td>...</td>\n",
       "      <td>...</td>\n",
       "      <td>...</td>\n",
       "      <td>...</td>\n",
       "      <td>...</td>\n",
       "      <td>...</td>\n",
       "      <td>...</td>\n",
       "      <td>...</td>\n",
       "      <td>...</td>\n",
       "      <td>...</td>\n",
       "      <td>...</td>\n",
       "      <td>...</td>\n",
       "    </tr>\n",
       "    <tr>\n",
       "      <th>10548</th>\n",
       "      <td>10548</td>\n",
       "      <td>16-646926</td>\n",
       "      <td>646926</td>\n",
       "      <td>16009122</td>\n",
       "      <td>NaN</td>\n",
       "      <td>NaN</td>\n",
       "      <td>NaN</td>\n",
       "      <td>34</td>\n",
       "      <td>NaN</td>\n",
       "      <td>NaN</td>\n",
       "      <td>...</td>\n",
       "      <td>תמ\"א</td>\n",
       "      <td>הוד השרון</td>\n",
       "      <td>2016-03-17</td>\n",
       "      <td>NaN</td>\n",
       "      <td>NaN</td>\n",
       "      <td>ישורון 34, הוד השרון</td>\n",
       "      <td>(32.1587622, 34.8930285)</td>\n",
       "      <td>32.158762</td>\n",
       "      <td>34.893028</td>\n",
       "      <td>NaN</td>\n",
       "    </tr>\n",
       "    <tr>\n",
       "      <th>10549</th>\n",
       "      <td>10549</td>\n",
       "      <td>16-648376</td>\n",
       "      <td>648376</td>\n",
       "      <td>16009219</td>\n",
       "      <td>NaN</td>\n",
       "      <td>57.14</td>\n",
       "      <td>8.0</td>\n",
       "      <td>13</td>\n",
       "      <td>NaN</td>\n",
       "      <td>NaN</td>\n",
       "      <td>...</td>\n",
       "      <td>תמ\"א</td>\n",
       "      <td>הוד השרון</td>\n",
       "      <td>NaN</td>\n",
       "      <td>NaN</td>\n",
       "      <td>NaN</td>\n",
       "      <td>בן גמלא יהושע 13, הוד השרון</td>\n",
       "      <td>(32.1432137, 34.8763687)</td>\n",
       "      <td>32.143214</td>\n",
       "      <td>34.876369</td>\n",
       "      <td>NaN</td>\n",
       "    </tr>\n",
       "    <tr>\n",
       "      <th>10550</th>\n",
       "      <td>10550</td>\n",
       "      <td>16-654519</td>\n",
       "      <td>654519</td>\n",
       "      <td>16009567</td>\n",
       "      <td>NaN</td>\n",
       "      <td>NaN</td>\n",
       "      <td>NaN</td>\n",
       "      <td>3</td>\n",
       "      <td>NaN</td>\n",
       "      <td>NaN</td>\n",
       "      <td>...</td>\n",
       "      <td>תמ\"א</td>\n",
       "      <td>הוד השרון</td>\n",
       "      <td>NaN</td>\n",
       "      <td>NaN</td>\n",
       "      <td>NaN</td>\n",
       "      <td>פדויים 3, הוד השרון</td>\n",
       "      <td>(32.1577059, 34.9006436)</td>\n",
       "      <td>32.157706</td>\n",
       "      <td>34.900644</td>\n",
       "      <td>NaN</td>\n",
       "    </tr>\n",
       "    <tr>\n",
       "      <th>10551</th>\n",
       "      <td>10551</td>\n",
       "      <td>16-655843</td>\n",
       "      <td>655843</td>\n",
       "      <td>16010236</td>\n",
       "      <td>NaN</td>\n",
       "      <td>NaN</td>\n",
       "      <td>NaN</td>\n",
       "      <td>6</td>\n",
       "      <td>NaN</td>\n",
       "      <td>NaN</td>\n",
       "      <td>...</td>\n",
       "      <td>תמ\"א</td>\n",
       "      <td>הוד השרון</td>\n",
       "      <td>NaN</td>\n",
       "      <td>NaN</td>\n",
       "      <td>NaN</td>\n",
       "      <td>עין חי 6, הוד השרון</td>\n",
       "      <td>(32.1567005, 34.8937613)</td>\n",
       "      <td>32.156700</td>\n",
       "      <td>34.893761</td>\n",
       "      <td>NaN</td>\n",
       "    </tr>\n",
       "    <tr>\n",
       "      <th>10552</th>\n",
       "      <td>10552</td>\n",
       "      <td>16-655846</td>\n",
       "      <td>655846</td>\n",
       "      <td>16010237</td>\n",
       "      <td>NaN</td>\n",
       "      <td>NaN</td>\n",
       "      <td>NaN</td>\n",
       "      <td>39</td>\n",
       "      <td>NaN</td>\n",
       "      <td>NaN</td>\n",
       "      <td>...</td>\n",
       "      <td>תמ\"א</td>\n",
       "      <td>הוד השרון</td>\n",
       "      <td>NaN</td>\n",
       "      <td>NaN</td>\n",
       "      <td>NaN</td>\n",
       "      <td>יסוד המעלה 39, הוד השרון</td>\n",
       "      <td>(32.1595119, 34.9150248)</td>\n",
       "      <td>32.159512</td>\n",
       "      <td>34.915025</td>\n",
       "      <td>NaN</td>\n",
       "    </tr>\n",
       "  </tbody>\n",
       "</table>\n",
       "<p>10553 rows × 41 columns</p>\n",
       "</div>"
      ],
      "text/plain": [
       "       Unnamed: 0 MezheYeshut   GISId  MisparYeshut  MisparYeshutAv  \\\n",
       "0               0   16-640988  640988      16000146             NaN   \n",
       "1               1   16-640984  640984      16002161             NaN   \n",
       "2               2   16-640985  640985      16000145             NaN   \n",
       "3               3   16-640989  640989      16000147             NaN   \n",
       "4               4   16-649233  649233      16001567             NaN   \n",
       "...           ...         ...     ...           ...             ...   \n",
       "10548       10548   16-646926  646926      16009122             NaN   \n",
       "10549       10549   16-648376  648376      16009219             NaN   \n",
       "10550       10550   16-654519  654519      16009567             NaN   \n",
       "10551       10551   16-655843  655843      16010236             NaN   \n",
       "10552       10552   16-655846  655846      16010237             NaN   \n",
       "\n",
       "       AchuzHachtamot  AchuzHachtamotMitcham  Bayt GushChelka  KamutDirot  \\\n",
       "0                 NaN                    NaN     1        NaN         NaN   \n",
       "1                 NaN                    NaN    23        NaN         NaN   \n",
       "2                 NaN                    0.0    32        NaN         NaN   \n",
       "3                 NaN                    NaN     5        NaN         NaN   \n",
       "4                 NaN                    NaN    28        NaN         NaN   \n",
       "...               ...                    ...   ...        ...         ...   \n",
       "10548             NaN                    NaN    34        NaN         NaN   \n",
       "10549           57.14                    8.0    13        NaN         NaN   \n",
       "10550             NaN                    NaN     3        NaN         NaN   \n",
       "10551             NaN                    NaN     6        NaN         NaN   \n",
       "10552             NaN                    NaN    39        NaN         NaN   \n",
       "\n",
       "       ...  Yeshut      Yeshuv  BakashaLeHeter      Heter1     Ichlus1  \\\n",
       "0      ...    תמ\"א  מזכרת בתיה      2013-08-28  2015-11-17  2020-03-24   \n",
       "1      ...    תמ\"א  מזכרת בתיה      2014-03-24  2021-10-24         NaN   \n",
       "2      ...    תמ\"א  מזכרת בתיה      2016-11-14         NaN         NaN   \n",
       "3      ...    תמ\"א  מזכרת בתיה      2017-06-06         NaN         NaN   \n",
       "4      ...    תמ\"א  מזכרת בתיה      2019-09-16         NaN         NaN   \n",
       "...    ...     ...         ...             ...         ...         ...   \n",
       "10548  ...    תמ\"א   הוד השרון      2016-03-17         NaN         NaN   \n",
       "10549  ...    תמ\"א   הוד השרון             NaN         NaN         NaN   \n",
       "10550  ...    תמ\"א   הוד השרון             NaN         NaN         NaN   \n",
       "10551  ...    תמ\"א   הוד השרון             NaN         NaN         NaN   \n",
       "10552  ...    תמ\"א   הוד השרון             NaN         NaN         NaN   \n",
       "\n",
       "                           address                      coordinates  \\\n",
       "0          אלון יגאל 1, מזכרת בתיה         (31.8529404, 34.8456398)   \n",
       "1          שד אליהו 23, מזכרת בתיה          (31.854477, 34.8451273)   \n",
       "2          שד אליהו 32, מזכרת בתיה          (31.854044, 34.8453213)   \n",
       "3          אלון יגאל 5, מזכרת בתיה  (31.8528759, 34.84637980000001)   \n",
       "4          שד אליהו 28, מזכרת בתיה         (31.8541366, 34.8447116)   \n",
       "...                            ...                              ...   \n",
       "10548         ישורון 34, הוד השרון         (32.1587622, 34.8930285)   \n",
       "10549  בן גמלא יהושע 13, הוד השרון         (32.1432137, 34.8763687)   \n",
       "10550          פדויים 3, הוד השרון         (32.1577059, 34.9006436)   \n",
       "10551          עין חי 6, הוד השרון         (32.1567005, 34.8937613)   \n",
       "10552     יסוד המעלה 39, הוד השרון         (32.1595119, 34.9150248)   \n",
       "\n",
       "        latitude  longitude  years_to_be_approved  \n",
       "0      31.852940  34.845640                   2.0  \n",
       "1      31.854477  34.845127                   7.0  \n",
       "2      31.854044  34.845321                   NaN  \n",
       "3      31.852876  34.846380                   NaN  \n",
       "4      31.854137  34.844712                   NaN  \n",
       "...          ...        ...                   ...  \n",
       "10548  32.158762  34.893028                   NaN  \n",
       "10549  32.143214  34.876369                   NaN  \n",
       "10550  32.157706  34.900644                   NaN  \n",
       "10551  32.156700  34.893761                   NaN  \n",
       "10552  32.159512  34.915025                   NaN  \n",
       "\n",
       "[10553 rows x 41 columns]"
      ]
     },
     "execution_count": 5,
     "metadata": {},
     "output_type": "execute_result"
    }
   ],
   "source": [
    "tama_df = pd.read_csv('engineered_tama.csv')\n",
    "tama_df"
   ]
  },
  {
   "cell_type": "markdown",
   "id": "61d959c1",
   "metadata": {
    "pycharm": {
     "name": "#%% md\n"
    }
   },
   "source": [
    "### choose features"
   ]
  },
  {
   "cell_type": "code",
   "execution_count": 7,
   "id": "2cc8f75c",
   "metadata": {
    "pycharm": {
     "name": "#%%\n"
    }
   },
   "outputs": [
    {
     "data": {
      "text/html": [
       "<div>\n",
       "<style scoped>\n",
       "    .dataframe tbody tr th:only-of-type {\n",
       "        vertical-align: middle;\n",
       "    }\n",
       "\n",
       "    .dataframe tbody tr th {\n",
       "        vertical-align: top;\n",
       "    }\n",
       "\n",
       "    .dataframe thead th {\n",
       "        text-align: right;\n",
       "    }\n",
       "</style>\n",
       "<table border=\"1\" class=\"dataframe\">\n",
       "  <thead>\n",
       "    <tr style=\"text-align: right;\">\n",
       "      <th></th>\n",
       "      <th>ShnatBakasha</th>\n",
       "      <th>latitude</th>\n",
       "      <th>longitude</th>\n",
       "      <th>years_to_be_approved</th>\n",
       "    </tr>\n",
       "  </thead>\n",
       "  <tbody>\n",
       "    <tr>\n",
       "      <th>0</th>\n",
       "      <td>2013.0</td>\n",
       "      <td>31.852940</td>\n",
       "      <td>34.845640</td>\n",
       "      <td>2.0</td>\n",
       "    </tr>\n",
       "    <tr>\n",
       "      <th>1</th>\n",
       "      <td>2014.0</td>\n",
       "      <td>31.854477</td>\n",
       "      <td>34.845127</td>\n",
       "      <td>7.0</td>\n",
       "    </tr>\n",
       "    <tr>\n",
       "      <th>10</th>\n",
       "      <td>2006.0</td>\n",
       "      <td>31.796681</td>\n",
       "      <td>34.657435</td>\n",
       "      <td>1.0</td>\n",
       "    </tr>\n",
       "    <tr>\n",
       "      <th>11</th>\n",
       "      <td>2008.0</td>\n",
       "      <td>31.812108</td>\n",
       "      <td>34.646415</td>\n",
       "      <td>1.0</td>\n",
       "    </tr>\n",
       "    <tr>\n",
       "      <th>12</th>\n",
       "      <td>2010.0</td>\n",
       "      <td>31.811985</td>\n",
       "      <td>34.647032</td>\n",
       "      <td>0.0</td>\n",
       "    </tr>\n",
       "    <tr>\n",
       "      <th>...</th>\n",
       "      <td>...</td>\n",
       "      <td>...</td>\n",
       "      <td>...</td>\n",
       "      <td>...</td>\n",
       "    </tr>\n",
       "    <tr>\n",
       "      <th>10501</th>\n",
       "      <td>2018.0</td>\n",
       "      <td>32.160547</td>\n",
       "      <td>34.911997</td>\n",
       "      <td>2.0</td>\n",
       "    </tr>\n",
       "    <tr>\n",
       "      <th>10502</th>\n",
       "      <td>2015.0</td>\n",
       "      <td>32.158662</td>\n",
       "      <td>34.890109</td>\n",
       "      <td>5.0</td>\n",
       "    </tr>\n",
       "    <tr>\n",
       "      <th>10503</th>\n",
       "      <td>2017.0</td>\n",
       "      <td>32.153654</td>\n",
       "      <td>34.890050</td>\n",
       "      <td>3.0</td>\n",
       "    </tr>\n",
       "    <tr>\n",
       "      <th>10504</th>\n",
       "      <td>2014.0</td>\n",
       "      <td>32.153311</td>\n",
       "      <td>34.890399</td>\n",
       "      <td>8.0</td>\n",
       "    </tr>\n",
       "    <tr>\n",
       "      <th>10505</th>\n",
       "      <td>2021.0</td>\n",
       "      <td>32.157990</td>\n",
       "      <td>34.902371</td>\n",
       "      <td>1.0</td>\n",
       "    </tr>\n",
       "  </tbody>\n",
       "</table>\n",
       "<p>4984 rows × 4 columns</p>\n",
       "</div>"
      ],
      "text/plain": [
       "       ShnatBakasha   latitude  longitude  years_to_be_approved\n",
       "0            2013.0  31.852940  34.845640                   2.0\n",
       "1            2014.0  31.854477  34.845127                   7.0\n",
       "10           2006.0  31.796681  34.657435                   1.0\n",
       "11           2008.0  31.812108  34.646415                   1.0\n",
       "12           2010.0  31.811985  34.647032                   0.0\n",
       "...             ...        ...        ...                   ...\n",
       "10501        2018.0  32.160547  34.911997                   2.0\n",
       "10502        2015.0  32.158662  34.890109                   5.0\n",
       "10503        2017.0  32.153654  34.890050                   3.0\n",
       "10504        2014.0  32.153311  34.890399                   8.0\n",
       "10505        2021.0  32.157990  34.902371                   1.0\n",
       "\n",
       "[4984 rows x 4 columns]"
      ]
     },
     "execution_count": 7,
     "metadata": {},
     "output_type": "execute_result"
    }
   ],
   "source": [
    "# consider to change the chosen_features list\n",
    "chosen_features = ['ShnatBakasha', 'latitude', 'longitude', 'years_to_be_approved']\n",
    "tama_df = tama_df[chosen_features]\n",
    "tama_df = tama_df.dropna(how='any')"
   ]
  },
  {
   "cell_type": "markdown",
   "id": "95119f2b",
   "metadata": {
    "pycharm": {
     "name": "#%% md\n"
    }
   },
   "source": [
    "### create the synthetic data"
   ]
  },
  {
   "cell_type": "code",
   "execution_count": 11,
   "id": "fe20c25c",
   "metadata": {
    "pycharm": {
     "name": "#%%\n"
    }
   },
   "outputs": [
    {
     "data": {
      "text/plain": [
       "(49840, 4)"
      ]
     },
     "execution_count": 11,
     "metadata": {},
     "output_type": "execute_result"
    }
   ],
   "source": [
    "# Initialize synthesizer\n",
    "synthesizer = CTGAN()\n",
    "# Fit synthesizer to data\n",
    "synthesizer.fit(tama_df)\n",
    "# Generate synthetic data\n",
    "size_synthetic_data = len(tama_df) * 10 # consider to change the size\n",
    "synthetic_data = synthesizer.sample(size_synthetic_data)\n",
    "synthetic_data['years_to_be_approved'] = synthetic_data['years_to_be_approved'].round(0)\n",
    "synthetic_data.shape"
   ]
  },
  {
   "cell_type": "markdown",
   "id": "ba6dfc05",
   "metadata": {
    "pycharm": {
     "name": "#%% md\n"
    }
   },
   "source": [
    "### Save synthetic data to file"
   ]
  },
  {
   "cell_type": "code",
   "execution_count": 14,
   "id": "54ef16b2",
   "metadata": {
    "pycharm": {
     "name": "#%%\n"
    }
   },
   "outputs": [],
   "source": [
    "synthetic_data.to_csv('tama_synthetic_data.csv', index=False)"
   ]
  },
  {
   "cell_type": "markdown",
   "id": "f27796e2",
   "metadata": {
    "pycharm": {
     "name": "#%% md\n"
    }
   },
   "source": [
    "### mix real data with the fake data"
   ]
  },
  {
   "cell_type": "code",
   "execution_count": 15,
   "id": "baa4e76d",
   "metadata": {
    "pycharm": {
     "name": "#%%\n"
    }
   },
   "outputs": [],
   "source": [
    "synthetic_data['is_real'] = False\n",
    "tama_df['is_real'] = True\n",
    "mix_tama_df = pd.concat([synthetic_data, tama_df])"
   ]
  },
  {
   "cell_type": "markdown",
   "id": "7726eb44",
   "metadata": {
    "pycharm": {
     "name": "#%% md\n"
    }
   },
   "source": [
    "### Save mix data to file"
   ]
  },
  {
   "cell_type": "code",
   "execution_count": 16,
   "id": "01e63e2f",
   "metadata": {
    "pycharm": {
     "name": "#%%\n"
    }
   },
   "outputs": [],
   "source": [
    "mix_tama_df.to_csv('mix_tama_data.csv', index=False)"
   ]
  }
 ],
 "metadata": {
  "kernelspec": {
   "display_name": "Python 3 (ipykernel)",
   "language": "python",
   "name": "python3"
  },
  "language_info": {
   "codemirror_mode": {
    "name": "ipython",
    "version": 3
   },
   "file_extension": ".py",
   "mimetype": "text/x-python",
   "name": "python",
   "nbconvert_exporter": "python",
   "pygments_lexer": "ipython3",
   "version": "3.10.9"
  }
 },
 "nbformat": 4,
 "nbformat_minor": 5
}