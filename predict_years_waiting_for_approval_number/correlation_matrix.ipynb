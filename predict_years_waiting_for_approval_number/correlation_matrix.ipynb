{
 "cells": [
  {
   "cell_type": "code",
   "execution_count": 1,
   "id": "62a7215d",
   "metadata": {},
   "outputs": [],
   "source": [
    "import pandas as pd\n",
    "import seaborn as snc"
   ]
  },
  {
   "cell_type": "code",
   "execution_count": 2,
   "id": "899f030e",
   "metadata": {},
   "outputs": [],
   "source": [
    "tama_df = pd.read_csv('geocode_tama_address_data.csv')\n",
    "tama_df['years_to_be_approved'] = tama_df['ShnatHryter'] - tama_df['ShnatBakasha']\n",
    "total_tama_requests_df = tama_df.groupby(by=['SemelIishuv', 'ShnatBakasha'], as_index=False).size().rename(columns={'size': 'total_tama_requests'})\n",
    "tama_df = tama_df.merge(total_tama_requests_df, on=['SemelIishuv', 'ShnatBakasha'])"
   ]
  },
  {
   "cell_type": "code",
   "execution_count": null,
   "outputs": [],
   "source": [
    "chosen_features = ['years_to_be_approved', 'KamutTziburi', 'ShnatBakasha', 'MechirMemutza', 'total_tama_requests', 'latitude', 'longitude', 'GISId', 'AchuzHachtamot']\n",
    "corr = tama_df[chosen_features].dropna(how='any').corr()\n",
    "snc.heatmap(corr, annot=True)"
   ],
   "metadata": {
    "collapsed": false,
    "pycharm": {
     "name": "#%%\n"
    }
   }
  },
  {
   "cell_type": "code",
   "execution_count": null,
   "outputs": [],
   "source": [
    "chosen_features = ['latitude', 'longitude', 'SemelIishuv']\n",
    "corr = tama_df[chosen_features].corr()\n",
    "snc.heatmap(corr, annot=True)"
   ],
   "metadata": {
    "collapsed": false,
    "pycharm": {
     "name": "#%%\n"
    }
   }
  }
 ],
 "metadata": {
  "kernelspec": {
   "display_name": "Python 3 (ipykernel)",
   "language": "python",
   "name": "python3"
  },
  "language_info": {
   "codemirror_mode": {
    "name": "ipython",
    "version": 3
   },
   "file_extension": ".py",
   "mimetype": "text/x-python",
   "name": "python",
   "nbconvert_exporter": "python",
   "pygments_lexer": "ipython3",
   "version": "3.10.9"
  }
 },
 "nbformat": 4,
 "nbformat_minor": 5
}