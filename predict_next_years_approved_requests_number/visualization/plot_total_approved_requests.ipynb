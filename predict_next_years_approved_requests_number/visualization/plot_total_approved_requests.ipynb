{
 "cells": [
  {
   "cell_type": "code",
   "execution_count": 1,
   "id": "6e49b2d8",
   "metadata": {
    "pycharm": {
     "name": "#%%\n"
    }
   },
   "outputs": [],
   "source": [
    "import pandas as pd"
   ]
  },
  {
   "cell_type": "code",
   "execution_count": 2,
   "id": "8e17e917",
   "metadata": {
    "pycharm": {
     "name": "#%%\n"
    }
   },
   "outputs": [
    {
     "data": {
      "text/html": [
       "<div>\n",
       "<style scoped>\n",
       "    .dataframe tbody tr th:only-of-type {\n",
       "        vertical-align: middle;\n",
       "    }\n",
       "\n",
       "    .dataframe tbody tr th {\n",
       "        vertical-align: top;\n",
       "    }\n",
       "\n",
       "    .dataframe thead th {\n",
       "        text-align: right;\n",
       "    }\n",
       "</style>\n",
       "<table border=\"1\" class=\"dataframe\">\n",
       "  <thead>\n",
       "    <tr style=\"text-align: right;\">\n",
       "      <th></th>\n",
       "      <th>hebrew_city_name</th>\n",
       "      <th>city_code</th>\n",
       "      <th>year</th>\n",
       "      <th>total_open_requests</th>\n",
       "      <th>total_requests</th>\n",
       "      <th>total_approved_requests</th>\n",
       "    </tr>\n",
       "  </thead>\n",
       "  <tbody>\n",
       "    <tr>\n",
       "      <th>0</th>\n",
       "      <td>אור יהודה</td>\n",
       "      <td>2400</td>\n",
       "      <td>2005</td>\n",
       "      <td>0</td>\n",
       "      <td>0.0</td>\n",
       "      <td>0.0</td>\n",
       "    </tr>\n",
       "    <tr>\n",
       "      <th>1</th>\n",
       "      <td>אור יהודה</td>\n",
       "      <td>2400</td>\n",
       "      <td>2006</td>\n",
       "      <td>0</td>\n",
       "      <td>0.0</td>\n",
       "      <td>0.0</td>\n",
       "    </tr>\n",
       "    <tr>\n",
       "      <th>2</th>\n",
       "      <td>אור יהודה</td>\n",
       "      <td>2400</td>\n",
       "      <td>2007</td>\n",
       "      <td>0</td>\n",
       "      <td>0.0</td>\n",
       "      <td>0.0</td>\n",
       "    </tr>\n",
       "    <tr>\n",
       "      <th>3</th>\n",
       "      <td>אור יהודה</td>\n",
       "      <td>2400</td>\n",
       "      <td>2008</td>\n",
       "      <td>0</td>\n",
       "      <td>1.0</td>\n",
       "      <td>0.0</td>\n",
       "    </tr>\n",
       "    <tr>\n",
       "      <th>4</th>\n",
       "      <td>אור יהודה</td>\n",
       "      <td>2400</td>\n",
       "      <td>2009</td>\n",
       "      <td>1</td>\n",
       "      <td>0.0</td>\n",
       "      <td>0.0</td>\n",
       "    </tr>\n",
       "    <tr>\n",
       "      <th>...</th>\n",
       "      <td>...</td>\n",
       "      <td>...</td>\n",
       "      <td>...</td>\n",
       "      <td>...</td>\n",
       "      <td>...</td>\n",
       "      <td>...</td>\n",
       "    </tr>\n",
       "    <tr>\n",
       "      <th>1075</th>\n",
       "      <td>תל אביב יפו</td>\n",
       "      <td>5000</td>\n",
       "      <td>2018</td>\n",
       "      <td>687</td>\n",
       "      <td>164.0</td>\n",
       "      <td>83.0</td>\n",
       "    </tr>\n",
       "    <tr>\n",
       "      <th>1076</th>\n",
       "      <td>תל אביב יפו</td>\n",
       "      <td>5000</td>\n",
       "      <td>2019</td>\n",
       "      <td>768</td>\n",
       "      <td>116.0</td>\n",
       "      <td>149.0</td>\n",
       "    </tr>\n",
       "    <tr>\n",
       "      <th>1077</th>\n",
       "      <td>תל אביב יפו</td>\n",
       "      <td>5000</td>\n",
       "      <td>2020</td>\n",
       "      <td>735</td>\n",
       "      <td>238.0</td>\n",
       "      <td>115.0</td>\n",
       "    </tr>\n",
       "    <tr>\n",
       "      <th>1078</th>\n",
       "      <td>תל אביב יפו</td>\n",
       "      <td>5000</td>\n",
       "      <td>2021</td>\n",
       "      <td>858</td>\n",
       "      <td>240.0</td>\n",
       "      <td>124.0</td>\n",
       "    </tr>\n",
       "    <tr>\n",
       "      <th>1079</th>\n",
       "      <td>תל אביב יפו</td>\n",
       "      <td>5000</td>\n",
       "      <td>2022</td>\n",
       "      <td>974</td>\n",
       "      <td>209.0</td>\n",
       "      <td>133.0</td>\n",
       "    </tr>\n",
       "  </tbody>\n",
       "</table>\n",
       "<p>1080 rows × 6 columns</p>\n",
       "</div>"
      ],
      "text/plain": [
       "     hebrew_city_name  city_code  year  total_open_requests  total_requests  \\\n",
       "0           אור יהודה       2400  2005                    0             0.0   \n",
       "1           אור יהודה       2400  2006                    0             0.0   \n",
       "2           אור יהודה       2400  2007                    0             0.0   \n",
       "3           אור יהודה       2400  2008                    0             1.0   \n",
       "4           אור יהודה       2400  2009                    1             0.0   \n",
       "...               ...        ...   ...                  ...             ...   \n",
       "1075      תל אביב יפו       5000  2018                  687           164.0   \n",
       "1076      תל אביב יפו       5000  2019                  768           116.0   \n",
       "1077      תל אביב יפו       5000  2020                  735           238.0   \n",
       "1078      תל אביב יפו       5000  2021                  858           240.0   \n",
       "1079      תל אביב יפו       5000  2022                  974           209.0   \n",
       "\n",
       "      total_approved_requests  \n",
       "0                         0.0  \n",
       "1                         0.0  \n",
       "2                         0.0  \n",
       "3                         0.0  \n",
       "4                         0.0  \n",
       "...                       ...  \n",
       "1075                     83.0  \n",
       "1076                    149.0  \n",
       "1077                    115.0  \n",
       "1078                    124.0  \n",
       "1079                    133.0  \n",
       "\n",
       "[1080 rows x 6 columns]"
      ]
     },
     "execution_count": 2,
     "metadata": {},
     "output_type": "execute_result"
    }
   ],
   "source": [
    "tama_df = pd.read_csv('engineered_tama_data.csv')\n",
    "tama_df"
   ]
  },
  {
   "cell_type": "code",
   "execution_count": 3,
   "id": "d3ee4586",
   "metadata": {},
   "outputs": [
    {
     "data": {
      "text/plain": [
       "149.0"
      ]
     },
     "execution_count": 3,
     "metadata": {},
     "output_type": "execute_result"
    }
   ],
   "source": [
    "tama_df['total_approved_requests'].max()"
   ]
  },
  {
   "cell_type": "code",
   "execution_count": 4,
   "id": "6135719b",
   "metadata": {
    "pycharm": {
     "name": "#%%\n"
    }
   },
   "outputs": [
    {
     "ename": "NameError",
     "evalue": "name 'plot_tama_df' is not defined",
     "output_type": "error",
     "traceback": [
      "\u001b[0;31m---------------------------------------------------------------------------\u001b[0m",
      "\u001b[0;31mNameError\u001b[0m                                 Traceback (most recent call last)",
      "Cell \u001b[0;32mIn[4], line 7\u001b[0m\n\u001b[1;32m      4\u001b[0m sns\u001b[38;5;241m.\u001b[39mset_style(\u001b[38;5;124m\"\u001b[39m\u001b[38;5;124mwhitegrid\u001b[39m\u001b[38;5;124m\"\u001b[39m)\n\u001b[1;32m      6\u001b[0m \u001b[38;5;28;01mfrom\u001b[39;00m \u001b[38;5;21;01mbidi\u001b[39;00m\u001b[38;5;21;01m.\u001b[39;00m\u001b[38;5;21;01malgorithm\u001b[39;00m \u001b[38;5;28;01mimport\u001b[39;00m get_display\n\u001b[0;32m----> 7\u001b[0m \u001b[43mplot_tama_df\u001b[49m[\u001b[38;5;124m'\u001b[39m\u001b[38;5;124mYeshuv\u001b[39m\u001b[38;5;124m'\u001b[39m] \u001b[38;5;241m=\u001b[39m tama_df[\u001b[38;5;124m'\u001b[39m\u001b[38;5;124mhebrew_city_name\u001b[39m\u001b[38;5;124m'\u001b[39m]\u001b[38;5;241m.\u001b[39mapply(get_display)\n\u001b[1;32m      8\u001b[0m plot_tama_df[\u001b[38;5;124m'\u001b[39m\u001b[38;5;124myear\u001b[39m\u001b[38;5;124m'\u001b[39m] \u001b[38;5;241m=\u001b[39m plot_tama_df[\u001b[38;5;124m'\u001b[39m\u001b[38;5;124myear\u001b[39m\u001b[38;5;124m'\u001b[39m] \u001b[38;5;241m-\u001b[39m \u001b[38;5;241m2000\u001b[39m\n\u001b[1;32m      9\u001b[0m plot_tama_df[\u001b[38;5;124m'\u001b[39m\u001b[38;5;124myear\u001b[39m\u001b[38;5;124m'\u001b[39m] \u001b[38;5;241m=\u001b[39m plot_tama_df[\u001b[38;5;124m'\u001b[39m\u001b[38;5;124myear\u001b[39m\u001b[38;5;124m'\u001b[39m]\u001b[38;5;241m.\u001b[39mastype(\u001b[38;5;28mint\u001b[39m)\n",
      "\u001b[0;31mNameError\u001b[0m: name 'plot_tama_df' is not defined"
     ]
    }
   ],
   "source": [
    "import seaborn as sns\n",
    "from matplotlib import pyplot as plt\n",
    "\n",
    "sns.set_style(\"whitegrid\")\n",
    "\n",
    "from bidi.algorithm import get_display\n",
    "plot_tama_df['Yeshuv'] = tama_df['hebrew_city_name'].apply(get_display)\n",
    "plot_tama_df['year'] = plot_tama_df['year'] - 2000\n",
    "plot_tama_df['year'] = plot_tama_df['year'].astype(int)\n",
    "sns.set(font_scale=3) \n",
    "\n",
    "g = sns.FacetGrid(plot_tama_df, col=\"Yeshuv\", col_wrap=3, height=10, ylim=(0, 150))\n",
    "g.map(plt.plot, \"year\", \"total_approved_requests\", linestyle=\"-\", marker=\"o\", color=\"green\")\n",
    "g.set_titles('{col_name}')\n",
    "g.set_xlabels(get_display(\"שנים\"))\n",
    "g.set_ylabels(get_display(\"סך אישורי בקשות תמא\"))\n",
    "g.set(xticks=[5, 10, 15, 20], yticks=list(range(0, 151))[::30])\n",
    "g.savefig('plot_total_approved_requests.png')"
   ]
  },
  {
   "cell_type": "code",
   "execution_count": null,
   "id": "b331a7bf",
   "metadata": {},
   "outputs": [],
   "source": [
    "import seaborn as sns\n",
    "from matplotlib import pyplot as plt\n",
    "\n",
    "sns.set_style(\"ticks\")\n",
    "\n",
    "from bidi.algorithm import get_display\n",
    "\n",
    "for city in tama_df['hebrew_city_name'].unique():\n",
    "    city_df = tama_df[tama_df['hebrew_city_name'] == city]\n",
    "    city_df['year'] = city_df['year'].astype(int)\n",
    "    plt.figure(figsize=(10, 6))\n",
    "    sns.set(font_scale=1.5)\n",
    "    sns.lineplot(data=city_df, x='year', y='total_approved_requests', color='green')\n",
    "    plt.title(get_display(city))\n",
    "    plt.xlabel(get_display(\"שנים\"))\n",
    "    plt.ylabel(get_display(\"סך אישורי בקשות תמא\"))\n",
    "    plt.xticks([2005, 2010, 2015, 2020])\n",
    "    plt.yticks(range(0, 151, 30))\n",
    "    plt.savefig(f'cities_plot_total_approved_requests/{city}.png')\n",
    "    plt.close()"
   ]
  }
 ],
 "metadata": {
  "kernelspec": {
   "display_name": "Python 3 (ipykernel)",
   "language": "python",
   "name": "python3"
  },
  "language_info": {
   "codemirror_mode": {
    "name": "ipython",
    "version": 3
   },
   "file_extension": ".py",
   "mimetype": "text/x-python",
   "name": "python",
   "nbconvert_exporter": "python",
   "pygments_lexer": "ipython3",
   "version": "3.10.9"
  }
 },
 "nbformat": 4,
 "nbformat_minor": 5
}
