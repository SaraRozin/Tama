{
 "cells": [
  {
   "cell_type": "code",
   "execution_count": null,
   "outputs": [],
   "source": [
    "import pandas as pd\n",
    "import os\n",
    "processed_tama_data = pd.read_csv('processed_tama_data.csv')\n",
    "tama_df = pd.read_csv('tama.csv', encoding='cp1255')"
   ],
   "metadata": {
    "collapsed": false,
    "pycharm": {
     "name": "#%%\n"
    }
   }
  },
  {
   "cell_type": "code",
   "execution_count": null,
   "outputs": [],
   "source": [
    "processed_tama_data"
   ],
   "metadata": {
    "collapsed": false,
    "pycharm": {
     "name": "#%%\n"
    }
   }
  },
  {
   "cell_type": "code",
   "execution_count": null,
   "outputs": [],
   "source": [
    "tama_df"
   ],
   "metadata": {
    "collapsed": false,
    "pycharm": {
     "name": "#%%\n"
    }
   }
  },
  {
   "cell_type": "markdown",
   "source": [
    "### engineer total_open_requests feature"
   ],
   "metadata": {
    "collapsed": false,
    "pycharm": {
     "name": "#%% md\n"
    }
   }
  },
  {
   "cell_type": "code",
   "execution_count": null,
   "outputs": [],
   "source": [
    "def get_total_open_requests(row, tama_df):\n",
    "    current_city_open_requests_df = tama_df[(tama_df['Yeshuv'] == row['hebrew_city_name']) & \n",
    "                                            (tama_df['ShnatBakasha'] < row['year']) &\n",
    "                                            ((tama_df['ShnatHryter'] >= row['year']) | (pd.isna(tama_df['ShnatHryter'])))\n",
    "                                           ]\n",
    "    return current_city_open_requests_df.shape[0]"
   ],
   "metadata": {
    "collapsed": false,
    "pycharm": {
     "name": "#%%\n"
    }
   }
  },
  {
   "cell_type": "code",
   "execution_count": null,
   "outputs": [],
   "source": [
    "processed_tama_data['total_open_requests'] = processed_tama_data.apply(get_total_open_requests, args=(tama_df, ), axis=1)\n",
    "processed_tama_data.sort_values(by=['hebrew_city_name', 'year'], ignore_index=True, inplace=True)\n",
    "processed_tama_data"
   ],
   "metadata": {
    "collapsed": false,
    "pycharm": {
     "name": "#%%\n"
    }
   }
  },
  {
   "cell_type": "code",
   "execution_count": null,
   "outputs": [],
   "source": [
    "cols = ['hebrew_city_name', 'city_code', 'year', 'total_open_requests', 'total_requests', 'total_approved_requests']\n",
    "processed_tama_data = processed_tama_data[cols]\n",
    "processed_tama_data.sort_values(by=cols, ignore_index=True, inplace=True)\n",
    "processed_tama_data.to_csv('engineered_tama_data.csv', index=False)\n",
    "processed_tama_data"
   ],
   "metadata": {
    "collapsed": false,
    "pycharm": {
     "name": "#%%\n"
    }
   }
  },
  {
   "cell_type": "markdown",
   "source": [
    "### frontend code for new year prediction"
   ],
   "metadata": {
    "collapsed": false,
    "pycharm": {
     "name": "#%% md\n"
    }
   }
  },
  {
   "cell_type": "code",
   "execution_count": null,
   "outputs": [],
   "source": [
    "def calculate_total_open_request(city, futured_year, tama_df):\n",
    "    current_city_open_requests_df = tama_df[\n",
    "        (tama_df['Yeshuv'] == city) & \n",
    "        (tama_df['ShnatBakasha'] < futured_year) & \n",
    "        ((tama_df['ShnatHryter'] >= futured_year) | (pd.isna(tama_df['ShnatHryter'])))\n",
    "    ]\n",
    "    return current_city_open_requests_df.shape[0]"
   ],
   "metadata": {
    "collapsed": false,
    "pycharm": {
     "name": "#%%\n"
    }
   }
  },
  {
   "cell_type": "code",
   "execution_count": null,
   "outputs": [],
   "source": [
    "calculate_total_open_request(city='תל אביב יפו', futured_year=2030, tama_df=tama_df)"
   ],
   "metadata": {
    "collapsed": false,
    "pycharm": {
     "name": "#%%\n"
    }
   }
  }
 ],
 "metadata": {
  "kernelspec": {
   "display_name": "Python 3 (ipykernel)",
   "language": "python",
   "name": "python3"
  },
  "language_info": {
   "codemirror_mode": {
    "name": "ipython",
    "version": 3
   },
   "file_extension": ".py",
   "mimetype": "text/x-python",
   "name": "python",
   "nbconvert_exporter": "python",
   "pygments_lexer": "ipython3",
   "version": "3.10.9"
  }
 },
 "nbformat": 4,
 "nbformat_minor": 5
}