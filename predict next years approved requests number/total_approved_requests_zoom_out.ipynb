{
 "cells": [
  {
   "cell_type": "code",
   "execution_count": 1,
   "id": "03eda167",
   "metadata": {
    "pycharm": {
     "name": "#%%\n"
    }
   },
   "outputs": [],
   "source": [
    "import pandas as pd\n",
    "from geopy.geocoders import GoogleV3\n",
    "from math import radians, sin, cos, sqrt, atan2\n",
    "import os"
   ]
  },
  {
   "cell_type": "code",
   "execution_count": 2,
   "id": "c40de9b6",
   "metadata": {
    "pycharm": {
     "name": "#%%\n"
    }
   },
   "outputs": [
    {
     "data": {
      "text/plain": [
       "'/Users/sararozin/Documents/Tama/Tama/total_approved_request_per_year/data/geocode_tama_address_data.csv'"
      ]
     },
     "execution_count": 2,
     "metadata": {},
     "output_type": "execute_result"
    }
   ],
   "source": [
    "os.path.abspath('../../') + '/data/geocode_tama_address_data.csv'"
   ]
  },
  {
   "cell_type": "code",
   "execution_count": 3,
   "id": "f4b9615a",
   "metadata": {
    "pycharm": {
     "name": "#%%\n"
    }
   },
   "outputs": [
    {
     "data": {
      "text/plain": [
       "Index(['Unnamed: 0', 'MezheYeshut', 'GISId', 'MisparYeshut', 'MisparYeshutAv',\n",
       "       'AchuzHachtamot', 'AchuzHachtamotMitcham', 'Bayt', 'GushChelka',\n",
       "       'KamutDirot', 'KamutTziburi', 'kaymetminhelet', 'KodMinhelet',\n",
       "       'KtovetAishKesher', 'MachozMinhal', 'MahutBakasha', 'MechirMemutza',\n",
       "       'mitve', 'Rechov', 'SemelIishuv', 'ShemMitcham', 'ShnatBakasha',\n",
       "       'ShnatHryter', 'ShnatIchlus', 'Status', 'TaarichMechiraRishona',\n",
       "       'YachadKayam', 'YachadMutza', 'YachadTabo', 'YachadTosafti', 'Yazam',\n",
       "       'Yeshut', 'Yeshuv', 'BakashaLeHeter', 'Heter1', 'Ichlus1', 'address',\n",
       "       'coordinates', 'latitude', 'longitude'],\n",
       "      dtype='object')"
      ]
     },
     "execution_count": 3,
     "metadata": {},
     "output_type": "execute_result"
    }
   ],
   "source": [
    "tama_df = pd.read_csv('/Users/sararozin/Documents/Tama/Tama/total_approved_request_per_year/data/geocode_tama_address_data.csv')\n",
    "tama_df.columns"
   ]
  },
  {
   "cell_type": "code",
   "execution_count": 4,
   "id": "ab873553",
   "metadata": {
    "pycharm": {
     "name": "#%%\n"
    }
   },
   "outputs": [],
   "source": [
    "def get_city_coordinates(city):\n",
    "    from geopy.geocoders import Nominatim\n",
    "    # Create a geocoder instance\n",
    "    geolocator = Nominatim(user_agent=\"my_app\")\n",
    "    # Geocode the city to get the location information\n",
    "    location = geolocator.geocode(city, language=\"he\")\n",
    "    # Extract the latitude and longitude from the location data\n",
    "    latitude = location.latitude\n",
    "    longitude = location.longitude\n",
    "    return longitude, latitude\n",
    "\n",
    "\n",
    "def calculate_distance(lat1, lon1, lat2, lon2):\n",
    "    R = 6371  # Radius of the Earth in kilometers\n",
    "\n",
    "    # Convert latitude and longitude to radians\n",
    "    lat1, lon1, lat2, lon2 = map(radians, [lat1, lon1, lat2, lon2])\n",
    "\n",
    "    # Calculate the differences in latitude and longitude\n",
    "    dlat = lat2 - lat1\n",
    "    dlon = lon2 - lon1\n",
    "\n",
    "    # Apply the Haversine formula\n",
    "    a = sin(dlat / 2) ** 2 + cos(lat1) * cos(lat2) * sin(dlon / 2) ** 2\n",
    "    c = 2 * atan2(sqrt(a), sqrt(1 - a))\n",
    "    distance = R * c\n",
    "\n",
    "    return distance\n",
    "\n",
    "\n",
    "def get_nearest_city(longitude, latitude):\n",
    "    \n",
    "    # Calculate the distance from the reference point for each row in the dataframe\n",
    "    tama_df['distance'] = tama_df.apply(lambda row: calculate_distance(latitude, longitude, row['latitude'], row['longitude']), axis=1)\n",
    "\n",
    "    # Find the row with the minimum distance\n",
    "    nearest_point = tama_df.loc[tama_df['distance'].idxmin()]\n",
    "\n",
    "    # Print the nearest point\n",
    "    nearest_city = nearest_point['Yeshuv']\n",
    "    print('nearest city', nearest_city)\n",
    "    return nearest_city\n",
    "    \n",
    "\n",
    "def zoom_out(city):\n",
    "    if city not in list(set(tama_df['Yeshuv'])):\n",
    "        print('zoom out')\n",
    "        longitude, latitude = get_city_coordinates(city)\n",
    "        return get_nearest_city(longitude, latitude)\n",
    "    return city"
   ]
  },
  {
   "cell_type": "code",
   "execution_count": 5,
   "id": "7db24fff",
   "metadata": {
    "pycharm": {
     "name": "#%%\n"
    }
   },
   "outputs": [
    {
     "data": {
      "text/plain": [
       "'בני ברק'"
      ]
     },
     "execution_count": 5,
     "metadata": {},
     "output_type": "execute_result"
    }
   ],
   "source": [
    "zoom_out('בני ברק')"
   ]
  },
  {
   "cell_type": "code",
   "execution_count": 6,
   "id": "f3d6f71c",
   "metadata": {
    "pycharm": {
     "name": "#%%\n"
    }
   },
   "outputs": [],
   "source": [
    "tama_df = tama_df[tama_df['Yeshuv'] != 'בני ברק']"
   ]
  },
  {
   "cell_type": "code",
   "execution_count": 7,
   "id": "e12965bc",
   "metadata": {
    "pycharm": {
     "name": "#%%\n"
    }
   },
   "outputs": [
    {
     "name": "stdout",
     "output_type": "stream",
     "text": [
      "zoom out\n",
      "nearest city רמת גן\n"
     ]
    },
    {
     "data": {
      "text/plain": [
       "'רמת גן'"
      ]
     },
     "execution_count": 7,
     "metadata": {},
     "output_type": "execute_result"
    }
   ],
   "source": [
    "zoom_out('בני ברק')"
   ]
  },
  {
   "cell_type": "code",
   "execution_count": 8,
   "id": "428a62d4",
   "metadata": {
    "pycharm": {
     "name": "#%%\n"
    }
   },
   "outputs": [],
   "source": [
    "def get_city_code(city):\n",
    "    city_map_name_to_code = tama_df[['Yeshuv', 'SemelIishuv']].drop_duplicates()\n",
    "    city_map_name_to_code = city_map_name_to_code[city_map_name_to_code['Yeshuv'] == city]['SemelIishuv']\n",
    "    return int(city_map_name_to_code)"
   ]
  },
  {
   "cell_type": "code",
   "execution_count": 9,
   "id": "b36111dc",
   "metadata": {
    "pycharm": {
     "name": "#%%\n"
    }
   },
   "outputs": [
    {
     "data": {
      "text/plain": [
       "8600"
      ]
     },
     "execution_count": 9,
     "metadata": {},
     "output_type": "execute_result"
    }
   ],
   "source": [
    "get_city_code('רמת גן')"
   ]
  },
  {
   "cell_type": "code",
   "execution_count": 10,
   "id": "0f31ef5e",
   "metadata": {
    "pycharm": {
     "name": "#%%\n"
    }
   },
   "outputs": [],
   "source": [
    "def get_city_name(city):\n",
    "    city_map_name_to_code = tama_df[['Yeshuv', 'SemelIishuv']].drop_duplicates()\n",
    "    city_map_name_to_code = city_map_name_to_code.loc[city_map_name_to_code['SemelIishuv'] == city, 'Yeshuv']\n",
    "    return list(city_map_name_to_code.values)[0]"
   ]
  },
  {
   "cell_type": "code",
   "execution_count": 11,
   "id": "653bfb2c",
   "metadata": {
    "pycharm": {
     "name": "#%%\n"
    }
   },
   "outputs": [
    {
     "data": {
      "text/plain": [
       "'רמת גן'"
      ]
     },
     "execution_count": 11,
     "metadata": {},
     "output_type": "execute_result"
    }
   ],
   "source": [
    "get_city_name(8600)"
   ]
  },
  {
   "cell_type": "code",
   "execution_count": null,
   "id": "260282d1",
   "metadata": {
    "pycharm": {
     "name": "#%%\n"
    }
   },
   "outputs": [],
   "source": []
  }
 ],
 "metadata": {
  "kernelspec": {
   "display_name": "Python 3 (ipykernel)",
   "language": "python",
   "name": "python3"
  },
  "language_info": {
   "codemirror_mode": {
    "name": "ipython",
    "version": 3
   },
   "file_extension": ".py",
   "mimetype": "text/x-python",
   "name": "python",
   "nbconvert_exporter": "python",
   "pygments_lexer": "ipython3",
   "version": "3.10.9"
  }
 },
 "nbformat": 4,
 "nbformat_minor": 5
}